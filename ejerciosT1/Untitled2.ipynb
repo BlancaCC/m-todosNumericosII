{
 "cells": [
  {
   "cell_type": "markdown",
   "metadata": {},
   "source": [
    "# Newton-Raphson"
   ]
  },
  {
   "cell_type": "code",
   "execution_count": 38,
   "metadata": {},
   "outputs": [],
   "source": [
    "import numpy as np\n",
    "import sympy as sp\n",
    "\n",
    "x = sp.symbols('x')\n",
    "\n",
    "\n",
    "def newtonRaphson(f,a,b, tolerancia, precision, max_iter, inicio,df=None):\n",
    "   \n",
    "    if df == None:\n",
    "        df = sp.lambdify(x, sp.diff(f,x), \"numpy\")           \n",
    "    f = sp.lambdify(x, sp.diff(f,x))\n",
    "    c = inicio\n",
    "    cnt = 1\n",
    "    no_encontrado = True\n",
    "    salida = \"max_iter\"\n",
    "    while cnt < max_iter and no_encontrado : \n",
    "        \n",
    "        cs = c - f(c)/df(c)\n",
    "        \n",
    "        if abs(f(cs)) < precision: \n",
    "            salida = \"precision\"\n",
    "            no_encontrado = False\n",
    "        if abs(cs-c) < tolerancia:\n",
    "            salida = \"tolerancia\"\n",
    "            no_encontrado = False\n",
    "        else: \n",
    "            c = cs \n",
    "            cnt +=1\n",
    "            \n",
    "    return cs , salida, cnt\n",
    "\n",
    "\n",
    "def newtonRaphsonSinInicio(f,a,b, tolerancia=10**(-5), precision=10**(-5), max_iter=100):\n",
    "    # Calculamos derivadas\n",
    "    \n",
    "    ddf = sp.lambdify(x,sp.diff(f,x,2),\"numpy\")\n",
    "    \n",
    "    #calculamos punto inicial \n",
    "    if f.evalf(subs={x:a})*ddf(a) > 0 : \n",
    "        c = a\n",
    "    else :\n",
    "        c = b\n",
    "    \n",
    "   \n",
    "    return newtonRaphson(f,a,b, tolerancia, precision, max_iter, c)\n",
    "\n"
   ]
  },
  {
   "cell_type": "code",
   "execution_count": 49,
   "metadata": {},
   "outputs": [
    {
     "name": "stdout",
     "output_type": "stream",
     "text": [
      " El valor de la función y((-97.0, 'max_iter', 100)) = 9.14952823257943\n"
     ]
    }
   ],
   "source": [
    "# ejecución\n",
    "\n",
    "y = sp.log(x**2+1)-sp.exp(x/2)*sp.cos(3*x)\n",
    "df = sp.lambdify(x, sp.diff(y,x,2), \"numpy\")\n",
    "\n",
    "sol = newtonRaphsonSinInicio(y,1,2,max_iter=100)\n",
    "print(f' El valor de la función y({sol}) = {y.evalf(subs={x:sol[0]})}')"
   ]
  },
  {
   "cell_type": "code",
   "execution_count": null,
   "metadata": {},
   "outputs": [],
   "source": [
    "newtonRaphsonSinInicial()"
   ]
  }
 ],
 "metadata": {
  "kernelspec": {
   "display_name": "Python 3",
   "language": "python",
   "name": "python3"
  },
  "language_info": {
   "codemirror_mode": {
    "name": "ipython",
    "version": 3
   },
   "file_extension": ".py",
   "mimetype": "text/x-python",
   "name": "python",
   "nbconvert_exporter": "python",
   "pygments_lexer": "ipython3",
   "version": "3.8.2"
  }
 },
 "nbformat": 4,
 "nbformat_minor": 2
}
