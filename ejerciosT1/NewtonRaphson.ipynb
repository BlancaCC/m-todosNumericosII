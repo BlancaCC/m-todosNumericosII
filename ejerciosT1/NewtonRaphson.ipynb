{
 "cells": [
  {
   "cell_type": "markdown",
   "metadata": {},
   "source": [
    "# Newton-Raphson"
   ]
  },
  {
   "cell_type": "code",
   "execution_count": 83,
   "metadata": {},
   "outputs": [],
   "source": [
    "import numpy as np\n",
    "import sympy as sp\n",
    "\n",
    "x = sp.symbols('x')\n",
    "\n",
    "\n",
    "def newtonRaphson(f, inicio, tolerancia =10*(-5), precision=10*(-5), max_iter=20, df=None):\n",
    "    print(f'tolerancia:{tolerancia} , inicio {inicio}')\n",
    "    print(f'funcion {f} \\nderivada {sp.diff(f,x)}')\n",
    "    if df == None:\n",
    "        df = sp.lambdify(x, sp.diff(f,x), \"numpy\")           \n",
    "    f = sp.lambdify(x, f)\n",
    "    c = inicio\n",
    "    cnt = 1\n",
    "    no_encontrado = True\n",
    "    salida = \"max_iter\"\n",
    "    while cnt < max_iter and no_encontrado : \n",
    "        \n",
    "        cs = c - f(c)/df(c)\n",
    "        #cs = f(c)\n",
    "        print(f'X_{cnt}= {cs}')\n",
    "        \n",
    "        if abs(f(cs)) < precision: \n",
    "            salida = \"precision\"\n",
    "            no_encontrado = False\n",
    "        if abs(cs-c) < tolerancia:\n",
    "            salida = \"tolerancia\"\n",
    "            no_encontrado = False\n",
    "        else: \n",
    "            c = cs \n",
    "            cnt +=1\n",
    "            \n",
    "    return cs , salida, cnt\n",
    "\n",
    "\n",
    "def newtonRaphsonSinInicio(f,a,b, tolerancia=10**(-5), precision=10**(-10), max_iter=100):\n",
    "    # Calculamos derivadas\n",
    "    \n",
    "    ddf = sp.lambdify(x,sp.diff(f,x,2),\"numpy\")\n",
    "    \n",
    "    #calculamos punto inicial \n",
    "    if f.evalf(subs={x:a})*ddf(a) > 0 : \n",
    "        c = a\n",
    "    else :\n",
    "        c = b\n",
    "    \n",
    "   \n",
    "    return newtonRaphson(f,inicio=c , tolerancia = tolerancia, precision = precision, max_iter = max_iter)\n",
    "\n"
   ]
  },
  {
   "cell_type": "code",
   "execution_count": 86,
   "metadata": {},
   "outputs": [
    {
     "name": "stdout",
     "output_type": "stream",
     "text": [
      "tolerancia:1e-05 , inicio 2\n",
      "funcion -exp(x/2)*cos(3*x) + log(x**2 + 1) \n",
      "derivada 2*x/(x**2 + 1) + 3*exp(x/2)*sin(3*x) - exp(x/2)*cos(3*x)/2\n",
      "X_1= 1.6405458285556322\n",
      "X_2= 1.7793127047654091\n",
      "X_3= 1.7795832267623801\n",
      "X_4= 1.7795832667220275\n",
      " El valor de la función y((1.7795832667220275, 'tolerancia', 4)) = 4.89063589243551E-15\n"
     ]
    }
   ],
   "source": [
    "# ejecución\n",
    "\n",
    "y = sp.log(x**2+1)-sp.exp(x/2)*sp.cos(3*x)\n",
    "df = sp.lambdify(x, sp.diff(y,x,2), \"numpy\")\n",
    "\n",
    "sol = newtonRaphsonSinInicio(y,1,2,max_iter=100)\n",
    "print(f' El valor de la función y({sol}) = {y.evalf(subs={x:sol[0]})}')"
   ]
  },
  {
   "cell_type": "code",
   "execution_count": 85,
   "metadata": {},
   "outputs": [
    {
     "name": "stdout",
     "output_type": "stream",
     "text": [
      "tolerancia:-50 , inicio 0.5\n",
      "funcion -x**3 + cos(x) \n",
      "derivada -3*x**2 - sin(x)\n",
      "X_1= 1.1121416370972725\n",
      "X_2= 0.9096726937368068\n",
      "X_3= 0.8672638182088165\n",
      "X_4= 0.8654771352982646\n",
      "X_5= 0.8654740331109566\n"
     ]
    },
    {
     "data": {
      "text/plain": [
       "(0.8654740331109566, 'max_iter', 6)"
      ]
     },
     "execution_count": 85,
     "metadata": {},
     "output_type": "execute_result"
    }
   ],
   "source": [
    "# ejemplo 2\n",
    "f = sp.cos(x) - x**(3)\n",
    "newtonRaphson(f, 0.5, max_iter = 6)"
   ]
  },
  {
   "cell_type": "code",
   "execution_count": 87,
   "metadata": {},
   "outputs": [
    {
     "name": "stdout",
     "output_type": "stream",
     "text": [
      "tolerancia:-50 , inicio 2\n",
      "funcion x**2 - 5 \n",
      "derivada 2*x\n",
      "X_1= 2.25\n",
      "X_2= 2.236111111111111\n",
      "X_3= 2.236067977915804\n",
      "X_4= 2.23606797749979\n",
      "X_5= 2.23606797749979\n"
     ]
    },
    {
     "data": {
      "text/plain": [
       "(2.23606797749979, 'max_iter', 6)"
      ]
     },
     "execution_count": 87,
     "metadata": {},
     "output_type": "execute_result"
    }
   ],
   "source": [
    "# ejemplo 3\n",
    "f = -5 + x**(2)\n",
    "newtonRaphson(f, 2, max_iter = 6)"
   ]
  },
  {
   "cell_type": "code",
   "execution_count": 88,
   "metadata": {},
   "outputs": [
    {
     "name": "stdout",
     "output_type": "stream",
     "text": [
      "tolerancia:-50 , inicio 2\n",
      "funcion x**3 - x - 1 \n",
      "derivada 3*x**2 - 1\n",
      "X_1= 1.5454545454545454\n",
      "X_2= 1.359614915915184\n",
      "X_3= 1.325801345005845\n",
      "X_4= 1.3247190494171253\n",
      "X_5= 1.3247179572458576\n"
     ]
    },
    {
     "data": {
      "text/plain": [
       "(1.3247179572458576, 'max_iter', 6)"
      ]
     },
     "execution_count": 88,
     "metadata": {},
     "output_type": "execute_result"
    }
   ],
   "source": [
    "#ejemplo 4\n",
    "\n",
    "f = x**3 - x - 1\n",
    "newtonRaphson(f, 2, max_iter = 6)"
   ]
  }
 ],
 "metadata": {
  "kernelspec": {
   "display_name": "Python 3",
   "language": "python",
   "name": "python3"
  },
  "language_info": {
   "codemirror_mode": {
    "name": "ipython",
    "version": 3
   },
   "file_extension": ".py",
   "mimetype": "text/x-python",
   "name": "python",
   "nbconvert_exporter": "python",
   "pygments_lexer": "ipython3",
   "version": "3.8.2"
  }
 },
 "nbformat": 4,
 "nbformat_minor": 2
}
