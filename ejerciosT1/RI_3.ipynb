{
 "cells": [
  {
   "cell_type": "code",
   "execution_count": 18,
   "metadata": {},
   "outputs": [],
   "source": [
    "import sympy as sp\n",
    "import numpy as np\n",
    "import matplotlib.pyplot as plt "
   ]
  },
  {
   "cell_type": "markdown",
   "metadata": {},
   "source": [
    "### Newton-Raphson\n",
    "\n",
    "Siguiente término por derivada\n"
   ]
  },
  {
   "cell_type": "code",
   "execution_count": 38,
   "metadata": {},
   "outputs": [],
   "source": [
    "x = sp.symbols('x')\n",
    "\n",
    "\n",
    "def newtonRaphson(f,a,b, tolerancia, precision, max_iter, inicio,df=None):\n",
    "   \n",
    "    if df == None:\n",
    "        df = sp.lambdify(x, sp.diff(f(x),x), \"numpy\")           \n",
    "    c = inicio\n",
    "    cnt = 1\n",
    "    no_encontrado = True\n",
    "    salida = \"max_iter\"\n",
    "    while cnt < max_iter and no_encontrado : \n",
    "        \n",
    "        cs = c - f(c)/df(c)\n",
    "        \n",
    "        if abs(f(cs)) < precision: \n",
    "            salida = \"precision\"\n",
    "            no_encontrado = False\n",
    "        if abs(cs-c) < tolerancia:\n",
    "            salida = \"tolerancia\"\n",
    "            no_encontrado = False\n",
    "        else: \n",
    "            c = cs \n",
    "            cnt +=1\n",
    "            \n",
    "    return cs , salida, cnt\n",
    "\n",
    "\n",
    "def newtonRaphsonSinInicio(f,a,b, tolerancia, precision, max_iter):\n",
    "    # Calculamos derivadas\n",
    "    df = sp.lambdify(x, sp.diff(f(x),x), \"numpy\")\n",
    "    ddf = sp.lambdify(x,sp.diff(df(x),x),\"numpy\")\n",
    "    \n",
    "    #calculamos punto inicial \n",
    "    if f(a)*ddf(a) > 0 : \n",
    "        c = a\n",
    "    else :\n",
    "        c = b\n",
    "    \n",
    "   \n",
    "    return newtonRaphson(f,a,b, tolerancia, precision, max_iter, c)\n",
    "\n"
   ]
  },
  {
   "cell_type": "markdown",
   "metadata": {},
   "source": [
    "3.- Use el método de Newton-Raphson para aproximar las soluciones de las siguientes ecuaciones con precisión $10^{-5}$ , partiendo de\n",
    "un valor adecuado, próximo a cada una de ellas en cada caso.\n",
    "\n",
    "i) $x^3-x-1 = 0$  en $[1,2]$.\n",
    "\n",
    "ii) $3x=2+x^2-e^x$.\n",
    "\n",
    "iii) $x^2+10 cos x+x=0$.\n"
   ]
  },
  {
   "cell_type": "code",
   "execution_count": 39,
   "metadata": {},
   "outputs": [
    {
     "name": "stdout",
     "output_type": "stream",
     "text": [
      "a=1, f(a)=-1, b=2, f(b)=5\n"
     ]
    },
    {
     "data": {
      "text/plain": [
       "(1.324717957244746, 'max_iter', 50)"
      ]
     },
     "execution_count": 39,
     "metadata": {},
     "output_type": "execute_result"
    }
   ],
   "source": [
    "prec=tol = 10^(-7)\n",
    "\n",
    "#intervalo inferior \n",
    "a=[1,-1,-1]\n",
    "b = [2,0, 1]\n",
    "a = 1\n",
    "b = 2\n",
    "\n",
    "def f(x) : return x**3 - x - 1\n",
    "# Comprobamos que en este intervalo se puede aplicar esta función \n",
    "print(f'a={a}, f(a)={f(a)}, b={b}, f(b)={f(b)}')\n",
    "#f =[(lambda x: x**3 - x - 1) , (lambda x: 2 + x**2 - np.exp(x)-2*x), (lambda x: x**2 + 10*sp.cos(x)+x) ]\n",
    "\n",
    "newtonRaphsonSinInicio( f, a,b,tol,prec,50)\n"
   ]
  },
  {
   "cell_type": "markdown",
   "metadata": {},
   "source": [
    "ii) $3x=2+x^2-e^x$."
   ]
  },
  {
   "cell_type": "code",
   "execution_count": 47,
   "metadata": {},
   "outputs": [
    {
     "data": {
      "image/png": "[encoded data removed]",
      "text/plain": [
       "<Figure size 432x288 with 1 Axes>"
      ]
     },
     "metadata": {
      "needs_background": "light"
     },
     "output_type": "display_data"
    },
    {
     "data": {
      "image/png": "[encoded data removed]",
      "text/plain": [
       "<Figure size 432x288 with 1 Axes>"
      ]
     },
     "metadata": {
      "needs_background": "light"
     },
     "output_type": "display_data"
    }
   ],
   "source": [
    "# Sacamos intervalo encontrando mínimo \n",
    "def f(y) : return (2 + y**2 - sp.exp(y)-2*y)\n",
    "# derivadas\n",
    "sp.diff(f(x),x)\n",
    "sp.plot(f(x),(x,-3,3), ylim= [-10.0, 10.0])\n",
    "# Como podemos apreciar la función es decrecien en este intervalo\n",
    "sp.plot(sp.diff(f(x),x),(x,-3,3), ylim= [-10.0, 10.0])\n",
    "\n",
    "# por tanto voy  a tomar como intervalo: \n",
    "a = -1\n",
    "b = 1"
   ]
  },
  {
   "cell_type": "code",
   "execution_count": 48,
   "metadata": {},
   "outputs": [
    {
     "data": {
      "text/latex": [
       "$\\displaystyle 2 x - e^{x} - 2$"
      ],
      "text/plain": [
       "2*x - exp(x) - 2"
      ]
     },
     "execution_count": 48,
     "metadata": {},
     "output_type": "execute_result"
    }
   ],
   "source": [
    "sp.diff(f(x),x)"
   ]
  },
  {
   "cell_type": "code",
   "execution_count": 57,
   "metadata": {},
   "outputs": [
    {
     "name": "stdout",
     "output_type": "stream",
     "text": [
      "a=-1, f(a)=4.63212055882856, b=1, f(b)=-1.71828182845905\n"
     ]
    },
    {
     "data": {
      "text/plain": [
       "(0.3512625335229046, 'max_iter', 50)"
      ]
     },
     "execution_count": 57,
     "metadata": {},
     "output_type": "execute_result"
    }
   ],
   "source": [
    "prec=tol = 10^(-6)\n",
    "# Comprobamos que en este intervalo se puede aplicar esta función \n",
    "print(f'a={a}, f(a)={f(a).evalf()}, b={b}, f(b)={f(b).evalf()}')\n",
    "# Perfecto, función continua y cambio de signo\n",
    "\n",
    "def fnp(y) : return (2 + y**2 - np.exp(y)-2*y)\n",
    "r =newtonRaphson( fnp, a,b,tol,prec,50,b, lambda y:2*y-np.exp(y)-2)\n",
    "r"
   ]
  },
  {
   "cell_type": "code",
   "execution_count": 55,
   "metadata": {},
   "outputs": [
    {
     "data": {
      "text/plain": [
       "-2.220446049250313e-16"
      ]
     },
     "execution_count": 55,
     "metadata": {},
     "output_type": "execute_result"
    }
   ],
   "source": [
    "#comprobrobación \n",
    "fnp(r[0])\n"
   ]
  }
 ],
 "metadata": {
  "kernelspec": {
   "display_name": "Python 3",
   "language": "python",
   "name": "python3"
  },
  "language_info": {
   "codemirror_mode": {
    "name": "ipython",
    "version": 3
   },
   "file_extension": ".py",
   "mimetype": "text/x-python",
   "name": "python",
   "nbconvert_exporter": "python",
   "pygments_lexer": "ipython3",
   "version": "3.8.2"
  }
 },
 "nbformat": 4,
 "nbformat_minor": 2
}
