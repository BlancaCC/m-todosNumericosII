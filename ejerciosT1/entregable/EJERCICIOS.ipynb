{
 "cells": [
  {
   "cell_type": "markdown",
   "metadata": {},
   "source": [
    "# Ejercicios tema 1 \n",
    "Blanca Cano Camero\n"
   ]
  },
  {
   "cell_type": "code",
   "execution_count": 1,
   "metadata": {},
   "outputs": [],
   "source": [
    "# import básicos\n",
    "from sympy import * # Aunque en las prácticas se han realizado más yo no veo necesario más\n",
    "\n",
    "## declaraciones\n",
    "x = symbols(\"x\")"
   ]
  },
  {
   "cell_type": "markdown",
   "metadata": {},
   "source": [
    "### Ejercicio 1\n",
    "1.- Demuestre que la ecuación $x^3+4 x^2=10$ tiene una única raíz en el intervalo $[1,2]$. Aproxime dicha raíz con el método de bisección con al menos 3 cifras decimales exactas. ¿Cuántas iteraciones serán necesarias para conseguir 5 cifras decimales exactas? Aproxime también la raíz con el método de Newton-Raphson partiendo del extremo adecuado hasta que la diferencia en valor absoluto, entre dos aproximaciones consecutivas sea inferior a $10^{-3}$."
   ]
  },
  {
   "cell_type": "code",
   "execution_count": 2,
   "metadata": {},
   "outputs": [
    {
     "name": "stdout",
     "output_type": "stream",
     "text": [
      "en f(2)=22.0000000000000 y f(1)=-5.00000000000000\n",
      "Los puntos donde se anula l aderiva son [0, -sqrt(2)*I, sqrt(2)*I]\n",
      "en df(-1)=-12.0000000000000 y df(1)=12.0000000000000\n"
     ]
    }
   ],
   "source": [
    "# La siguiente función se anula en donde la ecuación tiene solución\n",
    "f = x**4 + 4*x**2 - 10\n",
    "\n",
    "print(f'en f(2)={f.evalf(subs={x:2})} y f(1)={f.evalf(subs={x:1})}')\n",
    "\n",
    "# análisis de la derivada\n",
    "df = diff(f,x)\n",
    "print(f'Los puntos donde se anula l aderiva son {solve(df)}')\n",
    "print(f'en df(-1)={df.evalf(subs={x:-1})} y df(1)={df.evalf(subs={x:1})}')\n",
    "\n"
   ]
  },
  {
   "cell_type": "markdown",
   "metadata": {},
   "source": [
    "Por ser f un polinomio (clase infinito) y  puesto que la derivada solo se anula en 0 y toma valores positivos en adelante; deducimos que la función $f$ es creciente a partir de 0. \n",
    "\n",
    "Además gracias al teorema de Bolzano sabemos que se anulará en un punto por ser $f(1)<0<f(2)$ continua y creciente en ese intervalo."
   ]
  },
  {
   "cell_type": "markdown",
   "metadata": {},
   "source": [
    "#### Consideraciones bisección"
   ]
  },
  {
   "cell_type": "code",
   "execution_count": 3,
   "metadata": {},
   "outputs": [
    {
     "name": "stdout",
     "output_type": "stream",
     "text": [
      "El número mínimo de iteraciones para tres cifras es de 10.0\n",
      "El número mínimo de iteraciones para cinco cifras es de 17.0\n",
      "La solución buscada es 1.3197250366210938\n"
     ]
    }
   ],
   "source": [
    "import biseccion as bis\n",
    "# Para tres cifras decimales de precisión el error será (10**(-3))\n",
    "\n",
    "n3 = bis.calcIterations(1,2,10**(-3))\n",
    "n5 = bis.calcIterations(1,2,10**(-5))\n",
    "print(f'El número mínimo de iteraciones para tres cifras es de {n3}')\n",
    "print(f'El número mínimo de iteraciones para cinco cifras es de {n5}')\n",
    "\n",
    "def f(x):\n",
    "    return x**4+ 4*x**2 - 10\n",
    "\n",
    "## Calculamos el valor de la raíz con bisección \n",
    "raiz, ms_salida = bis.bisection(f,1,2,10**(-5))\n",
    "print(f'La solución buscada es {raiz}')"
   ]
  },
  {
   "cell_type": "markdown",
   "metadata": {},
   "source": [
    "#### Consideraciones Newton-Raphson"
   ]
  },
  {
   "cell_type": "code",
   "execution_count": 4,
   "metadata": {},
   "outputs": [
    {
     "name": "stdout",
     "output_type": "stream",
     "text": [
      "La solución con newtonRapshon es 1.3197190191327715, que se ha alcanzado en 4 iteraciones\n"
     ]
    }
   ],
   "source": [
    "from newtonRaphson import newtonRaphsonSinInicio\n",
    "f = x**4 + 4*x**2 - 10\n",
    "raiz, ms_salida, num_iter = newtonRaphsonSinInicio(f,1,2,10**(-3))\n",
    "\n",
    "print(f'La solución con newtonRapshon es {raiz}, que se ha alcanzado en {num_iter} iteraciones')"
   ]
  },
  {
   "cell_type": "markdown",
   "metadata": {},
   "source": [
    "## Ejercicio 2\n",
    "\n",
    "2.- Encuentre una aproximación de la raíz cúbica de 25 con dos decimales exactos, usando el algoritmo de bisección."
   ]
  },
  {
   "cell_type": "code",
   "execution_count": 5,
   "metadata": {},
   "outputs": [
    {
     "name": "stdout",
     "output_type": "stream",
     "text": [
      "en f(2)=-17.0000000000000 y f(3)=2.00000000000000\n",
      "Los puntos donde se anula la aderiva son {0: 2}\n",
      "en df(-1)=3.00000000000000 y df(1)=3.00000000000000\n"
     ]
    }
   ],
   "source": [
    "#Esta función se anula en la raíz cúbica de 25 \n",
    "f = x**3 -25\n",
    "\n",
    "\n",
    "print(f'en f(2)={f.evalf(subs={x:2})} y f(3)={f.evalf(subs={x:3})}')\n",
    "\n",
    "# análisis de la derivada\n",
    "df = diff(f,x)\n",
    "print(f'Los puntos donde se anula la aderiva son {roots(df)}')\n",
    "print(f'en df(-1)={df.evalf(subs={x:-1})} y df(1)={df.evalf(subs={x:1})}')\n",
    "\n"
   ]
  },
  {
   "cell_type": "markdown",
   "metadata": {},
   "source": [
    "Por tanto (Como era completamente de esperar) la función es creciente a partir de 0 y gracias a bolzano en la semirecta real positiva existirá una única solución."
   ]
  },
  {
   "cell_type": "code",
   "execution_count": 6,
   "metadata": {},
   "outputs": [
    {
     "name": "stdout",
     "output_type": "stream",
     "text": [
      "La solución buscada es 2.9296875 donde (25^(1/3)= 2.924017738212866) \n"
     ]
    }
   ],
   "source": [
    "#la calculamos por bisección\n",
    "def f(x):\n",
    "    return x**3 -25\n",
    "\n",
    "## Calculamos el valor de la raíz con bisección \n",
    "raiz, ms_salida = bis.bisection(f,2,3,10**(-2))\n",
    "print(f'La solución buscada es {raiz} donde (25^(1/3)= {25**(1/3)}) ')"
   ]
  },
  {
   "cell_type": "markdown",
   "metadata": {},
   "source": [
    "## Ejercicio 3\n",
    "\n",
    "3.- Use el método de Newton-Raphson para aproximar las soluciones de las siguientes ecuaciones con precisión $10^{-5}$ , partiendo de\n",
    "un valor adecuado, próximo a cada una de ellas en cada caso.\n",
    "\n",
    "i) $x^3-x-1 = 0$  en $[1,2]$.\n",
    "\n",
    "ii) $3x=2+x^2-e^x$.\n",
    "\n",
    "iii) $x^2+10 cos x+x=0$.\n"
   ]
  },
  {
   "cell_type": "markdown",
   "metadata": {},
   "source": [
    "#### i) $x^3-x-1 = 0$  en $[1,2]$.\n",
    "$f(x) = x^3-x-1$\n",
    "Su derivada es $x^2 -1$ positiva en tal intervalo y crecente, por tanto habrá una solucío a lo más. \n",
    "$f(1)<0<f(2)$ que por continuidad y bolzano tenemos la certeza de que la solución será única.\n",
    "\n",
    "La función netonRaphsonSinInicio directamente coloca la semilla en su sitio usando el criterio de la segunda derivada. "
   ]
  },
  {
   "cell_type": "code",
   "execution_count": 7,
   "metadata": {},
   "outputs": [
    {
     "name": "stdout",
     "output_type": "stream",
     "text": [
      "La solución buscada es 1.3247190494171253\n"
     ]
    }
   ],
   "source": [
    "from newtonRaphson import newtonRaphsonSinInicio\n",
    "f = x**3-x-1\n",
    "raiz, ms_salida, num_iter = newtonRaphsonSinInicio(f,1,2,10**(-5), 10**(-5))\n",
    "print(f'La solución buscada es {raiz}')"
   ]
  },
  {
   "cell_type": "markdown",
   "metadata": {},
   "source": [
    "#### ii) $3x=2+x^2-e^x$.\n",
    "\n",
    "$x^2 -3x +2 =  e^x$\n",
    "\n",
    "A ojo, casi sin querer se ve que $x^2 -3x +2 = (x-1)(x-2)$\n",
    "por tanto sabemos que la parábola tomará valores negarivos entre $(1,2)$ y sabemos que la exponencial es estrictamente positiva y de crecimiento mucho más rápido,a partir de uno, antes de eso será aproximadamente 0.  así que de manera intuitiva habrá una solución en $(-\\infty,1)$ cercana al uno. \n",
    "\n",
    "Puede comprobarse la intuición si representamos la función. \n"
   ]
  },
  {
   "cell_type": "code",
   "execution_count": 19,
   "metadata": {},
   "outputs": [
    {
     "data": {
      "image/png": "[encoded data removed]",
      "text/plain": [
       "<Figure size 432x288 with 1 Axes>"
      ]
     },
     "metadata": {
      "needs_background": "light"
     },
     "output_type": "display_data"
    },
    {
     "data": {
      "text/plain": [
       "<sympy.plotting.plot.Plot at 0x7f471dec81c0>"
      ]
     },
     "execution_count": 19,
     "metadata": {},
     "output_type": "execute_result"
    }
   ],
   "source": [
    "f = exp(x)-x**2 +  3*x -2\n",
    "plot(f,ylim=(-10,10), xlim=(-3, 3))\n"
   ]
  },
  {
   "cell_type": "markdown",
   "metadata": {},
   "source": [
    "Además la segunda derivada de $f=exp(x)-x**2 +  3*x -2$ será $f'' = exp(x) - 2$\n",
    "\n",
    "Que en es positiva en 1 al igual que la función, así que aplicando el critero de los signos podemos partir de 1 que con el método de newton raphson será convergente. \n",
    "\n",
    "Vamos a ellos: \n"
   ]
  },
  {
   "cell_type": "code",
   "execution_count": 9,
   "metadata": {},
   "outputs": [
    {
     "name": "stdout",
     "output_type": "stream",
     "text": [
      "La solución buscada es 0.2575302854263488, se han realizado 4 iteraciones\n"
     ]
    }
   ],
   "source": [
    "from newtonRaphson import newtonRaphson\n",
    "f=exp(x)-x**2 +  3*x -2\n",
    "raiz, ms_salida, num_iter = newtonRaphsonSinInicio(f,1,10**(-5), 10**(-5))\n",
    "print(f'La solución buscada es {raiz}, se han realizado {num_iter} iteraciones')"
   ]
  },
  {
   "cell_type": "markdown",
   "metadata": {},
   "source": [
    "#### iii) $x^2+10 cos x+x=0$.\n",
    "\n",
    "En este caso tenemos que tener más cuidado, porque tenemos una parábola $x(x+1)$ y una función periódica, por tanto a lo sumo podemos tener dos soluciones y no queremos dejarnos ninguna. \n",
    "\n",
    "Pero vamos a aprovechar las herraminetas gráficas para ver el número de solucionesy su intervalo."
   ]
  },
  {
   "cell_type": "code",
   "execution_count": 10,
   "metadata": {},
   "outputs": [
    {
     "data": {
      "image/png": "[encoded data removed]",
      "text/plain": [
       "<Figure size 432x288 with 1 Axes>"
      ]
     },
     "metadata": {
      "needs_background": "light"
     },
     "output_type": "display_data"
    },
    {
     "data": {
      "text/plain": [
       "<sympy.plotting.plot.Plot at 0x7f46fd6d3f70>"
      ]
     },
     "execution_count": 10,
     "metadata": {},
     "output_type": "execute_result"
    }
   ],
   "source": [
    "f = x**2 + 10*cos(x) + x\n",
    "plot(f,ylim=(-10,10), xlim=(-5, 5))"
   ]
  },
  {
   "cell_type": "markdown",
   "metadata": {},
   "source": [
    "Podemos ver que existen dos soluciones, cada respectivamente en $(-4,-3)$ y $(-2, -1)$, así que ya estamos preparados para utilizar nuestra implementación de Newton-Raphson. "
   ]
  },
  {
   "cell_type": "code",
   "execution_count": 11,
   "metadata": {},
   "outputs": [
    {
     "name": "stdout",
     "output_type": "stream",
     "text": [
      "La solución entre (-2,-1)buscada es -1.6869398658093508,que se ha alcanzado por precision, en  4 iteraciones.\n",
      "La solución entre (-4,-3)buscada es -3.5623314972388327  por tolerancia, en  4 iteraciones.\n"
     ]
    }
   ],
   "source": [
    "from newtonRaphson import newtonRaphsonSinInicio\n",
    "f = x**2 + 10*cos(x) + x\n",
    "raiz, ms_salida, num_iter = newtonRaphsonSinInicio(f,-2,-1,10**(-5), 10**(-5))\n",
    "print(f'La solución entre (-2,-1)buscada es {raiz},que se ha alcanzado por {ms_salida}, en  {num_iter} iteraciones.')\n",
    "\n",
    "raiz, ms_salida, num_iter = newtonRaphsonSinInicio(f,-4,-3,10**(-5), 10**(-10))\n",
    "print(f'La solución entre (-4,-3)buscada es {raiz}  por {ms_salida}, en  {num_iter} iteraciones.')"
   ]
  },
  {
   "cell_type": "markdown",
   "metadata": {},
   "source": [
    "## Ejercicio 4\n",
    "\n",
    "4.- Para la función  $ f(x)= 3 x^2+e^x-1$, \n",
    "\n",
    "i) encuentre, mediante el método de bisección una aproximación de la raíz en $[0,1]$ con, al menos, cuatro decimales exactos, y determine el número de iteraciones realizadas;\n",
    "\n",
    "ii) encuentre, mediante el método de Newton-Raphson, una aproximación de la raíz en $[0,1]$ con una tolerancia de $10^{-4}$,\n",
    "partiendo de $x_0=0$, y determine el número de iteraciones realizadas.  \n",
    "\n",
    "### Solución\n"
   ]
  },
  {
   "cell_type": "code",
   "execution_count": 12,
   "metadata": {},
   "outputs": [
    {
     "name": "stdout",
     "output_type": "stream",
     "text": [
      "Bisección\n",
      "El número mínimo de iteraciones en bisección para cuaro cifras será de 10.0\n",
      "La solución a priori con bisección es 6.103515625e-05\n",
      "NEWTON-RAPHSON: La solución buscada es 0.0 con 1 iteraciones.\n"
     ]
    }
   ],
   "source": [
    "\n",
    "# BISECCIÓN\n",
    "import biseccion as bis\n",
    "# Para cuatro cifras decimales de precisión el error será (10**(-4))\n",
    "n4 = bis.calcIterations(0,1,10**(-4))\n",
    "print('Bisección')\n",
    "print(f'El número mínimo de iteraciones en bisección para cuaro cifras será de {n3}')\n",
    "\n",
    "\n",
    "def f(x):\n",
    "    return 3* x**2 + exp(x)-1\n",
    "\n",
    "## Calculamos el valor de la raíz con bisección \n",
    "raiz, ms_salida = bis.bisection(f,0,1,10**(-4))\n",
    "print(f'La solución a priori con bisección es {raiz}')\n",
    "\n",
    "\n",
    "## NEWTON-RAPHSON\n",
    "from newtonRaphson import newtonRaphson\n",
    "f  = 3* x**2 + exp(x)-1\n",
    "raiz, ms_salida, num_iter = newtonRaphson(f,0,10**(-4), 10**(-4))\n",
    "print(f'NEWTON-RAPHSON: La solución buscada es {raiz} con {num_iter} iteraciones.')"
   ]
  },
  {
   "cell_type": "markdown",
   "metadata": {},
   "source": [
    "## Ejercicio 5\n",
    "5.- Utilice las órdenes apropiadas de Python para aproximar todos los puntos donde se anulan las funciones siguientes (si es necesario, represéntelas gráficamente):\n",
    "\n",
    "i) $f(x)=x^7-x^4+2$ ,\n",
    "\n",
    "ii) $f(x)=x^7+\\cos  x-3$.\n",
    "### caso i"
   ]
  },
  {
   "cell_type": "code",
   "execution_count": 13,
   "metadata": {},
   "outputs": [
    {
     "name": "stdout",
     "output_type": "stream",
     "text": [
      "Las soluciones reales y complejas de x**7 - x**4 + 2 son:\n",
      "-1.00000000000000\n",
      "-0.713102145851293 - 0.98823188827156*I\n",
      "-0.713102145851293 + 0.98823188827156*I\n",
      "1.06110281046036 - 0.376384046559108*I\n",
      "1.06110281046036 + 0.376384046559108*I\n",
      "0.151999335390936 - 1.01945594669063*I\n",
      "0.151999335390936 + 1.01945594669063*I\n"
     ]
    }
   ],
   "source": [
    "fi = x**7 - x**4 +2\n",
    "\n",
    "print(f'Las soluciones reales y complejas de {fi} son:')\n",
    "complexN = solve(fi, x)\n",
    "for i in complexN:\n",
    "    print(N(i))\n",
    " \n"
   ]
  },
  {
   "cell_type": "markdown",
   "metadata": {},
   "source": [
    "### caso ii\n",
    "Hemos representado esta función en el intervalo $[-2.5,2.5]$ para valores fuera de ese intervalo no existe ninguna solución, pues el coseno tiene una amplitud de 1 y en para valores $N < -2.5$ se tiene que $N^7 -3 < -1 <-cos(N)$ y apara $N> 2.5$ se tiene que $N^7>4 > - cos(N) + 3$ \n",
    "\n",
    "Además la solución estará próxima a 1, un dato ideal para utilzar `nsolve`."
   ]
  },
  {
   "cell_type": "code",
   "execution_count": 14,
   "metadata": {},
   "outputs": [
    {
     "data": {
      "image/png": "[encoded data removed]",
      "text/plain": [
       "<Figure size 432x288 with 1 Axes>"
      ]
     },
     "metadata": {
      "needs_background": "light"
     },
     "output_type": "display_data"
    },
    {
     "name": "stdout",
     "output_type": "stream",
     "text": [
      "La raíz para x**7 + cos(x) - 3 es 1.14545980727001\n"
     ]
    }
   ],
   "source": [
    "# segunda\n",
    "fii = x**7 + cos(x) -3\n",
    "plot(fii, xlim=(-2.5,2.5), ylim=(-10, 10) )\n",
    "# Por tanto calcula la única solución \n",
    "sol = nsolve(fii, 1)\n",
    "\n",
    "print(f'La raíz para {fii} es {sol}')"
   ]
  },
  {
   "cell_type": "markdown",
   "metadata": {},
   "source": [
    "## Ejercicio 6\n",
    " 6.- Aplicar los métodos de aceleración de la convergencia de Aitken y Steffensen a las sucesiones obtenidas para los distintos métodos\n",
    "programados en esta práctica y comparar los resultados. Para aplicar el método de aceleración de Steffensen, recuerde que para transformar cualquier ecuación de la forma  $ f(x)=0 $  en un problema de puntos fijos  $ g(x)=x $, la forma más simple puede ser definir  $g(x)=x \\pm f(x)$."
   ]
  },
  {
   "cell_type": "code",
   "execution_count": 15,
   "metadata": {
    "scrolled": true
   },
   "outputs": [
    {
     "name": "stdout",
     "output_type": "stream",
     "text": [
      "La aceleración de x**4 + 4*x**2 - 10 con semilla 1 en 10/(x*(x + 4)):\n",
      "Xn                        | Aitken                 |Stepheson \n",
      "1                         |                        | \n",
      "2.00000000000000          |                        | \n",
      "0.833333333333333         | 1.46153846153846       | \n",
      "2.48275862068966          | 1.51666666666667       | \n",
      "0.621306146572104         | 1.37815034468775       | 1.37815034468775\n",
      "3.48280861316797          | 1.34654507131928       | 1.34654507131928\n",
      "0.383712328149617         | 1.41935299784799       | 1.41935299784799\n",
      "5.94500467589520          | 1.29391242913432       | 1.29391242913432\n",
      "0.169138629713219         | 1.59554139423208       | 1.59554139423208\n",
      "14.1811305766207          | 1.04384454082576       | 1.04384454082576\n",
      "0.0387853985175662        | 2.35352259823629       | 2.35352259823629\n",
      "63.8382487052382          | -0.974754625444874     | -0.974754625444874\n",
      "0.00230910886112447       | 5.88011667047837       | 5.88011667047837\n",
      "La aceleración de -x**2 + 3*x + exp(x) - 2 con semilla 1.4 en x**2/3 - exp(x)/3 + 2/3:\n",
      "Xn                        | Aitken                 |Stepheson \n",
      "1.4                       |                        | \n",
      "-0.0317333222815582       |                        | \n",
      "0.344080702698839         | 0.265943783305879      | \n",
      "0.235899684121873         | 0.260079958147681      | \n",
      "0.263200453939663         | 0.256071638322854      | 0.256071638322854\n",
      "0.256062326008391         | 0.257530717992165      | 0.257530717992165\n",
      "0.257911558186928         | 0.257530268398944      | 0.257530268398944\n",
      "0.257431340610680         | 0.257530285669833      | 0.257530285669833\n",
      "0.257555968396257         | 0.257530285435571      | 0.257530285435571\n",
      "0.257523619331349         | 0.257530285439935      | 0.257530285439935\n",
      "0.257532015678931         | 0.257530285439859      | 0.257530285439859\n",
      "0.257529836344885         | 0.257530285439861      | 0.257530285439861\n",
      "0.257530402005542         | 0.257530285439861      | 0.257530285439861\n"
     ]
    }
   ],
   "source": [
    "# cada tupla contiene la función f de cada ejercicio, la semilla inicial \n",
    "import aceleracionConvergencia as ac\n",
    "#f=[(x**4 + 4*x**2 - 10,1),(x**3 -25,2),(x**3-x-1,1),(exp(x)-x**2 +  3*x -2,0),\n",
    " #(x**2 + 10*cos(x) + x,-2),(1,3* x**2 + exp(x)-1), (x**7 - x**4 +2,0),(x**7 + cos(x) -3,-1)]\n",
    "f =[(x**4 + 4*x**2 - 10,1),(exp(x)-x**2 +  3*x -2,0)]\n",
    "\n",
    "for i in range(len(f)):\n",
    "    gaux=[(10/(x*(x+4)),1),((x**2+2-exp(x))/3,1.4)]\n",
    "    def g(y):\n",
    "        return gaux[i][0].evalf(subs={x:y})\n",
    "    print(f'La aceleración de {f[i][0]} con semilla {gaux[i][1]} en {gaux[i][0]}:')\n",
    "    ac.tablasAceleracion(g,gaux[i][1])\n"
   ]
  },
  {
   "cell_type": "markdown",
   "metadata": {},
   "source": [
    "## Ejercicio 7\n",
    " 7.- Programar el método de Newton-Raphson acelerado para el caso de una raíz múltiple de una ecuación y comparar los resultados\n",
    "con los que se obtienen mediante el empleo de los métodos de aceleración anteriores.\n",
    "\n",
    "### Solución\n",
    "\n",
    "Lo que relentiza el método de convergencia Newton-Raphson para $f(x)$ son sus raíces múltiples, pero la función $\\mu(x) = f(x)/f'(x)$ tiene las misma raíces y ninguna múltiple,  así que será tan sencillo como aplicarle Newton-Raphson a esa función. "
   ]
  },
  {
   "cell_type": "code",
   "execution_count": 16,
   "metadata": {},
   "outputs": [
    {
     "name": "stdout",
     "output_type": "stream",
     "text": [
      "Para el método tradicional la solución es 14.25, tras 4 iteraciones\n",
      "Para el método acelerado la solución es 2.0, tras 4 iteraciones\n"
     ]
    }
   ],
   "source": [
    "import  newtonRaphson as nr\n",
    "\n",
    "f = (x-2)*(x-2)\n",
    "\n",
    "#método sin acelerar \n",
    "raiz,mensaje, iteraciones = nr.newtonRaphson(f,100,max_iter=4)\n",
    "\n",
    "print(f'Para el método tradicional la solución es {raiz}, tras {iteraciones} iteraciones')\n",
    "\n",
    "df = 2*(x-2)\n",
    "m = simplify(f/df)\n",
    "\n",
    "raiz,mensaje, iteraciones = nr.newtonRaphson(m,100, max_iter=4)\n",
    "\n",
    "print(f'Para el método acelerado la solución es {raiz}, tras {iteraciones} iteraciones')"
   ]
  },
  {
   "cell_type": "markdown",
   "metadata": {},
   "source": [
    "## Ejercicio 8 \n",
    "\n",
    " 8.- Programar el conocido algoritmo de Horner para la evaluación de un polinomio y emplearlo de forma reiterativa para el cálculo del\n",
    "desarrollo de Taylor de orden $ n$ de un polinomio cualquiera. Aprovecharlo también para programar una versión especial del método de Newton-Raphson para polinomios, evaluando tanto  $ p(x_k ) $ como $ p'(x_k)$ mediante el citado algoritmo.\n",
    "\n",
    "### Solución\n",
    "\n",
    "  El algoritmo de Horner se basa en sacar factor común $x$ para ahorrarse multiplicaciones, es decir si nuestro polinomio es de la forma $p = \\sum_{i=0}^n \\alpha_i x^i$ entonces el algoritmo de Horner sería, definimos $H(\\alpha_i) = \\alpha_i + x H(\\alpha_{i+1})$, con $H(\\alpha_n)=\\alpha_n x$ sería $p =H(\\alpha_0)$. \n",
    "  \n",
    " Si ahora queremos calcular la derivada $d$ del polinomio expresado;\n",
    " \n",
    " \n",
    " para todo $i \\geq d$\n",
    "Definimos $H_d(\\alpha_i) = \\frac{i!}{(i-d)!} \\alpha_i + x H_d(\\alpha_{i+1})$,  con \n",
    " $H_d(\\alpha_n)=\\frac{n!}{(n-d)!}\\alpha_n x$ y sería $p =H_d(\\alpha_d)$. "
   ]
  },
  {
   "cell_type": "code",
   "execution_count": 17,
   "metadata": {},
   "outputs": [
    {
     "name": "stdout",
     "output_type": "stream",
     "text": [
      " derivada 0: a0 + x*(a1 + x*(a2 + a3*x))\n",
      " derivada 1: a1 + x*(2*a2 + 3*a3*x)\n",
      " derivada 2: 2*a2 + 6*a3*x\n",
      " derivada 3: 6*a3\n",
      " derivada 4: 0\n"
     ]
    }
   ],
   "source": [
    "n=4\n",
    "a = list(symbols('a0:'+ str(n)))\n",
    "def horner(x,coef, d = 0):\n",
    "    \n",
    "    n = len(coef)\n",
    "    salida = 0\n",
    "    for i in range(n,d,-1):\n",
    "        salida = factorial(i-1)/factorial(i-d-1)*coef[i-1] + x*salida\n",
    "\n",
    "        \n",
    "    return salida\n",
    "\n",
    "for i in range(n+1):\n",
    "    print(f' derivada {i}: {horner(x,a,i)}')\n"
   ]
  },
  {
   "cell_type": "markdown",
   "metadata": {},
   "source": [
    "#### Newton con horner\n",
    "\n"
   ]
  }
 ],
 "metadata": {
  "kernelspec": {
   "display_name": "Python 3",
   "language": "python",
   "name": "python3"
  },
  "language_info": {
   "codemirror_mode": {
    "name": "ipython",
    "version": 3
   },
   "file_extension": ".py",
   "mimetype": "text/x-python",
   "name": "python",
   "nbconvert_exporter": "python",
   "pygments_lexer": "ipython3",
   "version": "3.8.2"
  }
 },
 "nbformat": 4,
 "nbformat_minor": 2
}
