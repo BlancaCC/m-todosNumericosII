{
 "cells": [
  {
   "cell_type": "markdown",
   "metadata": {},
   "source": [
    "### 4.- Para la función  $ f(x)= 3 x^2+e^x-1$, \n",
    "\n",
    "i) encuentre, mediante el método de bisección una aproximación de la raíz en $[0,1]$ con, al menos, cuatro decimales exactos, y determine el número de iteraciones realizadas;\n",
    "\n",
    "ii) encuentre, mediante el método de Newton-Raphson, una aproximación de la raíz en $[0,1]$ con una tolerancia de $10^{-4}$,\n",
    "partiendo de $x_0=0$, y determine el número de iteraciones realizadas.  "
   ]
  },
  {
   "cell_type": "code",
   "execution_count": 8,
   "metadata": {},
   "outputs": [
    {
     "name": "stdout",
     "output_type": "stream",
     "text": [
      "Las solución a i) es x=(0.33331298828125, 'iteration') donde han sido necesarias 14.0 iteraciones\n"
     ]
    }
   ],
   "source": [
    "import numpy as np\n",
    "import bisection as b\n",
    "\n",
    "# funtion 's definition \n",
    "\n",
    "def f(x):\n",
    "    return 3*x**2-np.exp(x)-1\n",
    "\n",
    "n_iter = b.calcIterations(0,1,10**(-4))\n",
    "sol = b.bisection(f,0,1,10**(-4))\n",
    "\n",
    "print(f'Las solución a i) es x={sol} donde han sido necesarias {n_iter} iteraciones')"
   ]
  },
  {
   "cell_type": "markdown",
   "metadata": {},
   "source": [
    "5.- Utilice las órdenes apropiadas de Python para aproximar todos los puntos donde se anulan las funciones siguientes (si es necesario, represéntelas gráficamente):\n",
    "\n",
    "i) $f(x)=x^7-x^4+2$ ,\n",
    "\n",
    "ii) $f(x)=x^7+\\cos  x-3$."
   ]
  },
  {
   "cell_type": "code",
   "execution_count": 16,
   "metadata": {},
   "outputs": [
    {
     "name": "stdout",
     "output_type": "stream",
     "text": [
      "Las soluciones reales y complejas de x**7 - x**4 + 2 son:\n",
      "-1.00000000000000\n",
      "-0.713102145851293 - 0.98823188827156*I\n",
      "-0.713102145851293 + 0.98823188827156*I\n",
      "1.06110281046036 - 0.376384046559108*I\n",
      "1.06110281046036 + 0.376384046559108*I\n",
      "0.151999335390936 - 1.01945594669063*I\n",
      "0.151999335390936 + 1.01945594669063*I\n"
     ]
    }
   ],
   "source": [
    "import sympy as sp\n",
    "x = sp.symbols(\"x\")\n",
    "fi = x**7 - x**4 +2\n",
    "print(f'Las soluciones reales y complejas de {fi} son:')\n",
    "complexN = sp.solve(fi, x)\n",
    "for i in complexN:\n",
    "    print(sp.N(i))\n",
    "\n",
    "    \n"
   ]
  },
  {
   "cell_type": "code",
   "execution_count": 33,
   "metadata": {},
   "outputs": [
    {
     "name": "stdout",
     "output_type": "stream",
     "text": [
      "Las solución real de x**7 + cos(x) - 3 es 1.14545980727001\n"
     ]
    },
    {
     "data": {
      "image/png": "[encoded data removed]",
      "text/plain": [
       "<Figure size 432x288 with 1 Axes>"
      ]
     },
     "metadata": {
      "needs_background": "light"
     },
     "output_type": "display_data"
    },
    {
     "data": {
      "text/plain": [
       "<sympy.plotting.plot.Plot at 0x7fbcf5327ee0>"
      ]
     },
     "execution_count": 33,
     "metadata": {},
     "output_type": "execute_result"
    }
   ],
   "source": [
    "fii = x**7 + sp.cos(x) -3\n",
    "\n",
    "print(f'Las solución real de {fii} es {sp.nsolve(fii, x, 1)}')\n",
    "# sp.solve(fii, x) en este caso no podemso utilizar este porque no da resultados aproxiamdos\n",
    " #sp.nsolve(fii, x)\n",
    "\n",
    "# Observar la gráfica y conocer su cómo se comporta la función x**7 nos asegura que solo tiene una solución\n",
    "sp.plot(fii,(x, -10,10), ylim=[-7,7])\n",
    "\n",
    "#for i in complexN:\n",
    " #   print(sp.N(i))"
   ]
  },
  {
   "cell_type": "markdown",
   "metadata": {},
   "source": []
  }
 ],
 "metadata": {
  "kernelspec": {
   "display_name": "Python 3",
   "language": "python",
   "name": "python3"
  },
  "language_info": {
   "codemirror_mode": {
    "name": "ipython",
    "version": 3
   },
   "file_extension": ".py",
   "mimetype": "text/x-python",
   "name": "python",
   "nbconvert_exporter": "python",
   "pygments_lexer": "ipython3",
   "version": "3.8.2"
  }
 },
 "nbformat": 4,
 "nbformat_minor": 2
}
