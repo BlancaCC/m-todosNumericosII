{
 "cells": [
  {
   "cell_type": "code",
   "execution_count": 3,
   "metadata": {},
   "outputs": [],
   "source": [
    "import sympy as sp\n",
    "import numpy as np\n",
    "import matplotlib.pyplot as plt \n",
    "import newtonRaphson as nr\n",
    "\n",
    "x = sp.symbols('x')\n"
   ]
  },
  {
   "cell_type": "markdown",
   "metadata": {},
   "source": [
    "\n"
   ]
  },
  {
   "cell_type": "code",
   "execution_count": null,
   "metadata": {},
   "outputs": [],
   "source": []
  },
  {
   "cell_type": "markdown",
   "metadata": {},
   "source": [
    "3.- Use el método de Newton-Raphson para aproximar las soluciones de las siguientes ecuaciones con precisión $10^{-5}$ , partiendo de\n",
    "un valor adecuado, próximo a cada una de ellas en cada caso.\n",
    "\n",
    "i) $x^3-x-1 = 0$  en $[1,2]$.\n",
    "\n",
    "ii) $3x=2+x^2-e^x$.\n",
    "\n",
    "iii) $x^2+10 cos x+x=0$.\n"
   ]
  },
  {
   "cell_type": "code",
   "execution_count": 4,
   "metadata": {},
   "outputs": [
    {
     "name": "stdout",
     "output_type": "stream",
     "text": [
      " El valor de la función y((-1.0435052271790375, 'max_iter', 6)) = -1.09277091128573\n"
     ]
    }
   ],
   "source": [
    "prec=tol = 10^(-7)\n",
    "\n",
    "#intervalo inferior \n",
    "a=[1,-1,-1]\n",
    "b = [2,0, 1]\n",
    "a = 1\n",
    "b = 2\n",
    "\n",
    "\n",
    "f = x**3 - x - 1\n",
    "# Comprobamos que en este intervalo se puede aplicar esta función \n",
    "#print(f'a={a}, f(a)={f(a)}, b={b}, f(b)={f(b)}')\n",
    "#: x**2 + 10*sp.cos(x)+x) ]\n",
    "\n",
    "sol = nr.newtonRaphsonSinInicio( f, a,b,tol,prec,50)\n",
    "sol = nr.newtonRaphson(f,0.5,max_iter = 6)\n",
    "print(f' El valor de la función y({sol}) = {f.evalf(subs={x:sol[0]})}')"
   ]
  },
  {
   "cell_type": "markdown",
   "metadata": {},
   "source": [
    "ii) $3x=2+x^2-e^x$."
   ]
  },
  {
   "cell_type": "code",
   "execution_count": null,
   "metadata": {},
   "outputs": [],
   "source": [
    "# Sacamos intervalo encontrando mínimo \n",
    "def f(y) : return (2 + y**2 - sp.exp(y)-2*y)\n",
    "# derivadas\n",
    "sp.diff(f(x),x)\n",
    "sp.plot(f(x),(x,-3,3), ylim= [-10.0, 10.0])\n",
    "# Como podemos apreciar la función es decrecien en este intervalo\n",
    "sp.plot(sp.diff(f(x),x),(x,-3,3), ylim= [-10.0, 10.0])\n",
    "\n",
    "# por tanto voy  a tomar como intervalo: \n",
    "a = -1\n",
    "b = 1"
   ]
  },
  {
   "cell_type": "code",
   "execution_count": null,
   "metadata": {},
   "outputs": [],
   "source": [
    "sp.diff(f(x),x)"
   ]
  },
  {
   "cell_type": "code",
   "execution_count": null,
   "metadata": {},
   "outputs": [],
   "source": [
    "prec=tol = 10^(-6)\n",
    "# Comprobamos que en este intervalo se puede aplicar esta función \n",
    "print(f'a={a}, f(a)={f(a).evalf()}, b={b}, f(b)={f(b).evalf()}')\n",
    "# Perfecto, función continua y cambio de signo\n",
    "\n",
    "def fnp(y) : return (2 + y**2 - np.exp(y)-2*y)\n",
    "r =newtonRaphson( fnp, a,b,tol,prec,50,b, lambda y:2*y-np.exp(y)-2)\n",
    "r"
   ]
  },
  {
   "cell_type": "code",
   "execution_count": null,
   "metadata": {},
   "outputs": [],
   "source": [
    "#comprobrobación \n",
    "fnp(r[0])\n"
   ]
  }
 ],
 "metadata": {
  "kernelspec": {
   "display_name": "Python 3",
   "language": "python",
   "name": "python3"
  },
  "language_info": {
   "codemirror_mode": {
    "name": "ipython",
    "version": 3
   },
   "file_extension": ".py",
   "mimetype": "text/x-python",
   "name": "python",
   "nbconvert_exporter": "python",
   "pygments_lexer": "ipython3",
   "version": "3.8.2"
  }
 },
 "nbformat": 4,
 "nbformat_minor": 2
}
