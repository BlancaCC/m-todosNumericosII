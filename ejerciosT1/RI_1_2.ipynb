{
 "cells": [
  {
   "cell_type": "code",
   "execution_count": 2,
   "metadata": {},
   "outputs": [],
   "source": [
    "import numpy as np # Importamos el módulo NumPy con el pseudónimo np\n",
    "import sympy as sp"
   ]
  },
  {
   "cell_type": "markdown",
   "metadata": {},
   "source": [
    "# Funciones a utilizar \n",
    "\n",
    "## Método bisección \n",
    "\n",
    "Si el intervalo es (a,b) y i es el número de iteraciones entontes si $s$ es la solución y $C_i$ es la estimación de la solución i-ésima entonces $|s - c_i| < \\frac{b-a}{2^i}$  \n",
    "\n",
    "Si queremos que la precisión sea de $p$ dígitos esto equivales a que $|s - c_i| < 10^{-p}$. \n",
    "\n",
    "Por tanto depejaremos i: $\\frac{b-a}{2^i} < 10^{-p}$ sii $i >\\log_2((b-a)*10^p)$\n",
    "\n"
   ]
  },
  {
   "cell_type": "code",
   "execution_count": 3,
   "metadata": {},
   "outputs": [],
   "source": [
    "# Método bisección \n",
    "def sign (x):\n",
    "    return x>=0\n",
    "\n",
    "def biseccion (f,a,b,tol, maxIter):\n",
    "    exit = \"Por haber alcanzado el máximo de iteraciones\"\n",
    "    cnt = 0\n",
    "    tolerancia = False\n",
    "    \n",
    "    while maxIter > cnt and tolerancia == False : \n",
    "\n",
    "        cnt += 1\n",
    "        c = (b+a)/2\n",
    "        if abs(f(c))< tol:\n",
    "            tolerancia = True\n",
    "            exit = \"Tolerancia\"\n",
    "            \n",
    "        elif sign(f(a)) == sign(f(c)): \n",
    "            a = c\n",
    "        else:\n",
    "            b = c\n",
    "        \n",
    "            \n",
    "    return c, exit, cnt\n",
    "            \n",
    "    \n",
    "        \n"
   ]
  },
  {
   "cell_type": "markdown",
   "metadata": {},
   "source": [
    "1.- Demuestre que la ecuación $x^3+4 x^2=10$ tiene una única raíz en el intervalo $[1,2]$. Aproxime dicha raíz con el método de bisección con al menos 3 cifras decimales exactas. ¿Cuántas iteraciones serán necesarias para conseguir 5 cifras decimales exactas? Aproxime también la raíz con el método de Newton-Raphson partiendo del extremo adecuado hasta que la diferencia en valor absoluto, entre dos aproximaciones consecutivas sea inferior a $10^{-3}$."
   ]
  },
  {
   "cell_type": "code",
   "execution_count": 1,
   "metadata": {},
   "outputs": [
    {
     "ename": "NameError",
     "evalue": "name 'np' is not defined",
     "output_type": "error",
     "traceback": [
      "\u001b[0;31m---------------------------------------------------------------------------\u001b[0m",
      "\u001b[0;31mNameError\u001b[0m                                 Traceback (most recent call last)",
      "\u001b[0;32m<ipython-input-1-a263dcde08d7>\u001b[0m in \u001b[0;36m<module>\u001b[0;34m\u001b[0m\n\u001b[0;32m----> 1\u001b[0;31m \u001b[0mnp\u001b[0m\u001b[0;34m.\u001b[0m\u001b[0mexp\u001b[0m\u001b[0;34m(\u001b[0m\u001b[0;36m3\u001b[0m\u001b[0;34m)\u001b[0m\u001b[0;34m\u001b[0m\u001b[0;34m\u001b[0m\u001b[0m\n\u001b[0m",
      "\u001b[0;31mNameError\u001b[0m: name 'np' is not defined"
     ]
    }
   ],
   "source": [
    "np.exp(3)"
   ]
  },
  {
   "cell_type": "markdown",
   "metadata": {},
   "source": [
    "2.- Encuentre una aproximación de la raíz cúbica de 25 con dos decimales exactos, usando el algoritmo de bisección."
   ]
  },
  {
   "cell_type": "code",
   "execution_count": 18,
   "metadata": {},
   "outputs": [
    {
     "data": {
      "text/plain": [
       "39.86313713864835"
      ]
     },
     "execution_count": 18,
     "metadata": {},
     "output_type": "execute_result"
    }
   ],
   "source": [
    "z= sp.symbols('z')\n",
    "f = z**3 -25\n",
    "\n",
    "def iteracionesNecesariasBiseccion ( precision,a, b ):\n",
    "    return np.log2(10**(precision))*(b-a)\n",
    "\n",
    "a=-3\n",
    "b=3\n",
    "\n",
    "iteracionesNecesariasBiseccion(2,a,b)"
   ]
  },
  {
   "cell_type": "code",
   "execution_count": null,
   "metadata": {},
   "outputs": [],
   "source": [
    "#ya sabemos que necesitamos como mínimo 2\n",
    "\n",
    "r = biseccion( lambda x: f.subs({z:x}) , a,b,10**(-10), 39)\n",
    "\n",
    "print(25**(1/3), r)\n"
   ]
  },
  {
   "cell_type": "markdown",
   "metadata": {},
   "source": []
  },
  {
   "cell_type": "markdown",
   "metadata": {},
   "source": [
    "\n"
   ]
  },
  {
   "cell_type": "code",
   "execution_count": null,
   "metadata": {},
   "outputs": [],
   "source": []
  }
 ],
 "metadata": {
  "kernelspec": {
   "display_name": "Python 3",
   "language": "python",
   "name": "python3"
  },
  "language_info": {
   "codemirror_mode": {
    "name": "ipython",
    "version": 3
   },
   "file_extension": ".py",
   "mimetype": "text/x-python",
   "name": "python",
   "nbconvert_exporter": "python",
   "pygments_lexer": "ipython3",
   "version": "3.8.2"
  }
 },
 "nbformat": 4,
 "nbformat_minor": 2
}
