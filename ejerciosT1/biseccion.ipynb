{
 "cells": [
  {
   "cell_type": "markdown",
   "metadata": {},
   "source": [
    "## Bisección  \n",
    "### Primero calculamos número de iteraciones necesaria  \n",
    "\n",
    "$error \\leq \\frac{b-a}{2^n}  $ entontes el número de iteraciones será (despejando y utilizando propiedades de los logaritmos)\n",
    "\n",
    "$ n = \\lceil \\frac{ log(\\frac{b-a}{error})}{error} \\rceil$"
   ]
  },
  {
   "cell_type": "code",
   "execution_count": 11,
   "metadata": {},
   "outputs": [],
   "source": [
    "## método de bisección  \n",
    "import numpy as np\n",
    "\n",
    "def calcIterations (a,b, error, maxIter = 10000): \n",
    "    return min(maxIter,np.ceil(np.log((b-a)/error)/np.log(2)))\n",
    "\n"
   ]
  },
  {
   "cell_type": "code",
   "execution_count": 12,
   "metadata": {},
   "outputs": [
    {
     "data": {
      "text/plain": [
       "12.0"
      ]
     },
     "execution_count": 12,
     "metadata": {},
     "output_type": "execute_result"
    }
   ],
   "source": [
    "# execution example\n",
    "calcIterations(1,10, 0.003)"
   ]
  },
  {
   "cell_type": "code",
   "execution_count": 17,
   "metadata": {},
   "outputs": [],
   "source": [
    "## bisection method\n",
    "\n",
    "def biseccion(f,a,b,error = 10**(-5), tolerance=10**(-13)):\n",
    "    n = int(calcIterations(a,b,error)  ) \n",
    "    for i in range (n):\n",
    "        xs = (b-a)/2\n",
    "        evaluation = f(xs)\n",
    "        if np.absolute(evaluation) < tolerance:\n",
    "            return xs, 'tolerance'\n",
    "        elif evaluation * f(a) > 0:\n",
    "            a = xs\n",
    "        else:\n",
    "            b = xs\n",
    "    return xs,'iteration'\n",
    "        "
   ]
  },
  {
   "cell_type": "code",
   "execution_count": 18,
   "metadata": {},
   "outputs": [
    {
     "name": "stdout",
     "output_type": "stream",
     "text": [
      "Our solution is (0.46852874755859375, 'iteration')\n"
     ]
    }
   ],
   "source": [
    "# example \n",
    "def f(x):\n",
    "    return np.log(x**2+1)-np.exp(x/2)*np.cos(3*x)\n",
    "\n",
    "sol = biseccion (f,-1,0)\n",
    "\n",
    "print (f'Our solution is {sol}')"
   ]
  }
 ],
 "metadata": {
  "kernelspec": {
   "display_name": "Python 3",
   "language": "python",
   "name": "python3"
  },
  "language_info": {
   "codemirror_mode": {
    "name": "ipython",
    "version": 3
   },
   "file_extension": ".py",
   "mimetype": "text/x-python",
   "name": "python",
   "nbconvert_exporter": "python",
   "pygments_lexer": "ipython3",
   "version": "3.8.2"
  }
 },
 "nbformat": 4,
 "nbformat_minor": 2
}
