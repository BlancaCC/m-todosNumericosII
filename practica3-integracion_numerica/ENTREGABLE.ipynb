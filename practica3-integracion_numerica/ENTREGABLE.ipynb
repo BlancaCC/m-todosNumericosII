{
 "cells": [
  {
   "cell_type": "markdown",
   "metadata": {},
   "source": [
    "## Ejercicios tema 3\n",
    "\n",
    "Blanca Cano Camarero \n",
    "\n",
    "### Comentarios iniciales\n",
    "\n",
    "A continuación verá los `import` a partir del comentario `## ficheros propios` encontrará que ese fichero se genera en el propio archivo de jupyter usando la orden del sistema `file`.\n",
    "\n",
    "Aclaración sobre nombre: con frecuencia verá que a la hora de denominar a las funciones que implementan los método aparecen partículas en los nombres como `succ`  y `completo`; `succ` hace referencia a la idea de `successor`, es decir que su salida será el elemento siguiente de la sucesión de aproximaciones, en nuestro caso el valor $x_{n+1}$. La pártícula `completo` informa de que esos método devolverá dos arrays de numpy, uno con los nodos y otro con las aproximaciones en dichos nodo. \n",
    "\n",
    "En esta práctica el algoritmo del que más *orgullosa* estoy es el de Taylor, échele un vistazo cuidado, ya que ha supuesto una mejora considerable con el dado en el guión de prácticas; se ha buscado la máxima abstración y flexibilidad con el resultado de que todos los casos planteables son resueltos por una sola función; véase fichero `super_Taylor.py`.\n",
    "\n",
    "Encontrará también en este ficher ejercicios de la relación de teoría, ya que se prestaban mucho a hacerse con el ordenador. \n",
    "\n",
    "Al final del fichero hay un apéncide con funciones usadas para ahorrarse escribir código redundate, relacionado con la representación gráfica y comparativa de soluciones y métodos. \n",
    "\n",
    "Como humilde comentario informático por lo visto en el guión en esta (y en otras) entregas, personalemente ha prescindido de definir funciones auxiliares de contenido constante dentro de otras que se llaman con frecuencia, ya que no considero que sea una práctica recomendable en cuando a nivel de eficiencia. Si se escriben fuera de la función y dentro del módulo a efectos prácticos es igual y lo que más nos importa, solo se define una vez, de la otra manera se crea y *destruye* cada vez que se llame a la función (pongo *destruye* porque esos objetos generados no *desaparecen* inminentemente, persistirán en memoria hasta que el recolector de basura los *elimine*. \n",
    "\n",
    "\n",
    "Finalmente me gustaría advertile y pedirle perdón por no haber sido consistente con cierta notación, ya que se va a utilizar indistintamente $(t,x)$ y $(x,y)$ aunque predominal el último caso; audentro de un mismo módulo siempre se será consistente con la notación. "
   ]
  },
  {
   "cell_type": "code",
   "execution_count": 15,
   "metadata": {},
   "outputs": [],
   "source": [
    "import numpy as np\n",
    "import matplotlib.pyplot as plt\n",
    "import sympy as sp\n",
    "\n",
    "from time import time # para medir tiempos de cálculo \n",
    "\n",
    "## ficheros propios \n",
    "import fast_graph  # dibujo de gráficos para comparar soluciones \n",
    "import punto_medio\n",
    "import heun\n",
    "import eulerexplicito \n",
    "import super_Taylor\n",
    "import butcher\n",
    "import mml    # método basados en cuadraturas"
   ]
  },
  {
   "cell_type": "markdown",
   "metadata": {},
   "source": [
    "## Ejercicio 1\n",
    "\n",
    "1. Repita las aproximaciones anteriores con diferentes valores de $N$ (y por tanto de $h$) y compruebe el efecto en cuanto a mayor o menor precisión, estabilidad y coste computacional. \n",
    "\n",
    "La estabilidad es un concepto teórico para analizar la convergencia práctica, por tanto los métodos de su análisis que se han seguido en este ejercicio para analizarla y en todos en los que se vuelva es numéricos o con representaciones."
   ]
  },
  {
   "cell_type": "code",
   "execution_count": 2,
   "metadata": {},
   "outputs": [
    {
     "name": "stdout",
     "output_type": "stream",
     "text": [
      "[10, 100, 1000]\n",
      "Para N=10 se ha tardado 0.00022840499877929688\n",
      "Donde el error máximo es 0.124539368359045\n",
      "Para N=100 se ha tardado 0.00024962425231933594\n",
      "Donde el error máximo es 0.013467999037519274\n",
      "Para N=1000 se ha tardado 0.0013110637664794922\n",
      "Donde el error máximo es 0.0013578962231490799\n"
     ]
    },
    {
     "data": {
      "image/png": "[encoded data removed]",
      "text/plain": [
       "<Figure size 576x288 with 1 Axes>"
      ]
     },
     "metadata": {
      "needs_background": "light"
     },
     "output_type": "display_data"
    }
   ],
   "source": [
    "## Datos del problema\n",
    "### función\n",
    "def f(t,z):\n",
    "    return z\n",
    "\n",
    "### intervalo \n",
    "a = 0; b= 1\n",
    "### condición inical del PVI (y(a) = 1)\n",
    "ya = 1\n",
    "\n",
    "### solución exacta (para comparar)\n",
    "def sol(y):\n",
    "    return np.exp(y)\n",
    "\n",
    "\n",
    "#import eulerexplicito  # método de euler explítico \n",
    " \n",
    "#from time import time # para medir tiempos de cálculo \n",
    "\n",
    "## recorremos partiendo de n= 10 de 30 en 30 \n",
    "xn = list() #nodos solución\n",
    "yn = list() # valor de los nodos \n",
    "N = [10**i for i in range(1,4)]\n",
    "print (N)\n",
    "for n in N:\n",
    "    tiempo_inicial = time()\n",
    "    xx, yEulerexpl = eulerexplicito.integrate(f,a,ya,b,n)\n",
    "    tiempo_final = time()\n",
    "    \n",
    "    ## almacenamso solución \n",
    "    xn.append(xx) \n",
    "    yn.append(yEulerexpl)\n",
    "    \n",
    "    print(f'Para N={n} se ha tardado {tiempo_final - tiempo_inicial}')\n",
    "    #print(f'Donde la media de error es { np.mean(abs(sol(xx)-yEulerexpl))}')\n",
    "    print(f'Donde el error máximo es { abs(sol(xx)-yEulerexpl).max()}')\n",
    "    \n",
    "\n",
    "## REPRESENTACIÓN DE LA SOLUCIÓN \n",
    "xx = np.linspace(a,b,N[-1])\n",
    "fig, ax = plt.subplots(figsize=(8, 4))\n",
    "ax.plot(xx, sol(xx), label=\"sol. exacta\")\n",
    "for i in range(len(yn)):\n",
    "    ax.plot(xn[i],yn[i], label=f'aprox n={N[i]}')\n",
    "    \n",
    "\n",
    "ax.legend()\n",
    "fig.tight_layout()\n",
    "graf_Eulerexplicito = fig\n"
   ]
  },
  {
   "cell_type": "markdown",
   "metadata": {},
   "source": [
    "1. A partir de la implementación del algoritmo del método de Euler explícito, realice las modificaciones oportunas para obtener también las implementaciones correspondientes a los métodos de Euler mejorado (o del punto medio), así como del de Euler modificado (o de Heun)."
   ]
  },
  {
   "cell_type": "code",
   "execution_count": 7,
   "metadata": {},
   "outputs": [
    {
     "name": "stdout",
     "output_type": "stream",
     "text": [
      "Overwriting punto_medio.py\n"
     ]
    }
   ],
   "source": [
    "%%file punto_medio.py\n",
    "\"\"\"\n",
    "    MÉTODO PUNTO MEDIO O EULER MEJORADO \n",
    "    __ funciones__ \n",
    "    complete_integrate: devuelve soluciones de nodos y soluciones\n",
    "    succ_integrate: dado un nodo devuelve la siguiente solución \n",
    "     \n",
    "    __ significado variables __ \n",
    "    X,Y     = integrate(F,x0,y0,xfinal,N).\n",
    "    {y}'    = {F(x,{y})}, donde\n",
    "    {y}     = {y[0],y[1],...y[N-1]}.\n",
    "    x0,y0   = condiciones iniciales \n",
    "    xfinal  = valor final de la variable x\n",
    "    h       = incremento de x usado para la integración\n",
    "    F       = función suplida por el usuario que devuelve \n",
    "            el array F(x,y) = {y'[0],y'[1],...,y'[N-1]}.\n",
    "\"\"\"\n",
    "import numpy as np\n",
    "def succ_euler(F, x,y,h):\n",
    "    '''método de euler explícito \n",
    "    F (x,y) función derivada\n",
    "    x, y valores de los que se parte\n",
    "    incremento\n",
    "    Salida : y_{n+1}\n",
    "    '''\n",
    "    return y + h* F(x,y)\n",
    "\n",
    "def succ_integrate(F,x,y,h):\n",
    "    '''PUNTO MEDIO siguiente solución\n",
    "    '''\n",
    "    return y + h*F(x+h/2, succ_euler(F,x,y,h/2))\n",
    "\n",
    "def complete_integrate(F,x0, y0,xfinal, N ):\n",
    "    X = np.linspace(x0,xfinal,N+1)\n",
    "    Y = [y0]\n",
    "    h = (xfinal - x0)/N\n",
    "    \n",
    "    for n in range(N):\n",
    "        Y.append(succ_integrate(F,X[n],Y[n],h))\n",
    "    return X,Y\n",
    "\n"
   ]
  },
  {
   "cell_type": "code",
   "execution_count": null,
   "metadata": {},
   "outputs": [],
   "source": [
    "from punto_medio import succ_euler\n",
    "\n"
   ]
  },
  {
   "cell_type": "code",
   "execution_count": 8,
   "metadata": {},
   "outputs": [
    {
     "name": "stdout",
     "output_type": "stream",
     "text": [
      "Writing heun.py\n"
     ]
    }
   ],
   "source": [
    "%%file heun.py \n",
    "'''\n",
    "FÓRMULA DE HEUN O EULER MEJORADO \n",
    "(Idea utilizar integración del trapecio)\n",
    "'''\n",
    "\n",
    "import numpy as np\n",
    "\n",
    "def succ_integrate(F,x,y,h):\n",
    "    '''método de de euler mejorado \n",
    "    F (x,y) función derivada\n",
    "    x, y valores de los que se parte\n",
    "    h:incremento\n",
    "    Salida : y_{n+1}\n",
    "    '''\n",
    "    return y + h/2*(F(x,y) + F(x+h, y + h*F(x,y) ) )\n",
    "\n",
    "\n",
    "def complete_integrate(F,x0, y0,xfinal, N ):\n",
    "    '''método de de euler mejorado \n",
    "    F (x,y) función derivada\n",
    "    x, y valores de los que se parte\n",
    "    N: número de intervalos \n",
    "    Salida : vector de nodos, vector de soluciones apriximadas a esos nodos\n",
    "    '''\n",
    "    X = np.linspace(x0,xfinal,N+1)\n",
    "    Y = [y0]\n",
    "    h = (xfinal - x0)/N\n",
    "    \n",
    "    for n in range(N):\n",
    "        Y.append(succ_integrate(F,X[n],Y[n],h))\n",
    "    return X,Y\n",
    "\n",
    "\n"
   ]
  },
  {
   "cell_type": "code",
   "execution_count": 14,
   "metadata": {},
   "outputs": [
    {
     "name": "stdout",
     "output_type": "stream",
     "text": [
      "El siguiente nodo es 0.39950010415798654\n"
     ]
    },
    {
     "data": {
      "image/png": "[encoded data removed]",
      "text/plain": [
       "<Figure size 576x288 with 1 Axes>"
      ]
     },
     "metadata": {
      "needs_background": "light"
     },
     "output_type": "display_data"
    }
   ],
   "source": [
    "#mostramos su uso \n",
    "\n",
    "#comento estos import porque en nuestro caso ya se llaman al comienzo del fichero\n",
    "#import punto_medio\n",
    "#import heun\n",
    "\n",
    "## Definimos PVI\n",
    "def f2(x,y):\n",
    "    return 4*np.cos(x)\n",
    "x0 = 0\n",
    "y0 = 0\n",
    "h = 1/10\n",
    "N = 10\n",
    "xfinal = 7\n",
    "\n",
    "## solución  aproximada \n",
    "sol_aprox = punto_medio.succ_integrate(f2,x0,y0,h)\n",
    "print(f'El siguiente nodo es {sol_aprox}')\n",
    "\n",
    "## varios nodo\n",
    "### _ Euler\n",
    "xx, yEuler = eulerexplicito.integrate(f2,x0,y0,xfinal,N)\n",
    "### punto medio \n",
    "x_pnt_medio, sol_pnt_medio = punto_medio.complete_integrate(f2,x0,y0,xfinal,N)\n",
    "### heun\n",
    "x_heun, sol_heun = heun.complete_integrate(f2,x0,y0,xfinal,N)\n",
    "\n",
    "### solucion_real\n",
    "def sol_f2(x):\n",
    "    return 4*np.sin(x)\n",
    "    \n",
    "\n",
    "## gráfica\n",
    "nodos = [xx,x_pnt_medio, x_heun,xx]\n",
    "soluciones = [yEuler, sol_pnt_medio, sol_heun,sol_f2(xx)]\n",
    "etiquetas = ['Euler','punto_medio', 'heun', 'sol exacta']\n",
    "graph = fast_graph.multiple_draw(nodos,soluciones,etiquetas)\n"
   ]
  },
  {
   "cell_type": "markdown",
   "metadata": {},
   "source": [
    "# Método de Taylor \n",
    "\n",
    "Comienzo mostrando mi versión implementada, se ha buscado la abstracción máxima, es decir\n",
    "solo hay que indicar el orden hasta que se desea desarrollar el polinomio de Taylor y los \n",
    "valores iniciales mínimos.\n",
    "\n",
    "Siguiendo el patrón seguido en los método anteriores, nuestras funciones implementadas son:\n",
    "- `succ_taylor(F,x,y,h, p = 1)` para un término concreto.\n",
    "- `complete_taylor(F, x0, y0, xfinal, N, p= 1)` para nodos equiespaciados y el valor del método en estos. \n"
   ]
  },
  {
   "cell_type": "code",
   "execution_count": 41,
   "metadata": {},
   "outputs": [
    {
     "name": "stdout",
     "output_type": "stream",
     "text": [
      "Overwriting super_Taylor.py\n"
     ]
    }
   ],
   "source": [
    "%%file super_Taylor.py \n",
    "'''\n",
    "FORMULA DE INTEGRACIÓN Y DERIVACIÓN DE TAYLOR\n",
    "\n",
    "Ejemplo de ejecución: \n",
    "def f3(x,y):\n",
    "    return sp.exp(3*x)\n",
    "\n",
    "succ_taylor(f3,0,1,1/10, 2) # devolverá el resultado de ejecutar el métood de Taylor\n",
    "complete_taylor(f3,0,1,1,10)    # nodos y su valor en el los distintos nodos\n",
    "'''\n",
    "\n",
    "import numpy as np\n",
    "import sympy as sp\n",
    "\n",
    "t,z = sp.symbols('t,z')\n",
    "\n",
    "def fact(x):\n",
    "    ''' factorial\n",
    "    '''\n",
    "    r = 1\n",
    "    for i in range(2,x):\n",
    "        r = r*i\n",
    "    return r\n",
    "\n",
    "\n",
    "def _diff(F,orden=1):\n",
    "    '''CALCULA DERIVADA\n",
    "    F(x,y(x)) (en función de sympy)\n",
    "    orden es el número de derivada \n",
    "    '''\n",
    "    def F_aux(x,y):\n",
    "            return sp.diff(F(t,z),t).subs({t:x,z:y})  + sp.diff(F(t,z),z).subs({t:x,z:y}) * F(t,z).subs({t:x,z:y}) \n",
    "        \n",
    "    if orden>1: \n",
    "        F_aux= _diff(F_aux, orden-1)\n",
    "        \n",
    "    return F_aux\n",
    "\n",
    "def serieTaylor(y0,F,h, orden = 1, ordenAcumulado=1, T = None,):\n",
    "    '''Devuelve serie de teylor de centrada en y0\n",
    "    y0: es el valor primero \n",
    "    F(x,y) es el valor de la derivada, aceptable por sympys\n",
    "    \n",
    "    Los parámetro ordenAcumulado y T NO SE TOCAN (son auxiliares a la función)\n",
    "    '''\n",
    "    \n",
    "    if ordenAcumulado == 1:\n",
    "        df = F\n",
    "        def ret(x,y):\n",
    "            return y0 + h*F(x,y)\n",
    "    else:\n",
    "        df = _diff(T)\n",
    "        \n",
    "        def ret(x,y):\n",
    "            return F(x,y) + df(x,y)*h**ordenAcumulado/fact(ordenAcumulado)\n",
    "        \n",
    "    if orden == ordenAcumulado:\n",
    "        return ret\n",
    "    else:\n",
    "        return serieTaylor(y0, ret, h, orden, (ordenAcumulado+1), df)\n",
    "        \n",
    "    \n",
    "def succ_taylor(F,x,y,h, p = 1):\n",
    "    '''Método de taylor, devuelve \n",
    "    y_{n+1} \n",
    "    calculado por el método de taylor \n",
    "    y_{n+1} = y_n + \\sum_{i = 1} ^p \\frac{h^i}{i!} derivada_orden_i(y_n)\n",
    "    ''' \n",
    "    taylorcillo = serieTaylor(y,F,h,p)\n",
    "    return taylorcillo(x,y)\n",
    "\n",
    "\n",
    "def complete_taylor(F, x0, y0, xfinal, N, p= 1):\n",
    "    X = np.linspace(x0,xfinal,N+1)\n",
    "    Y = [y0]\n",
    "    h = (xfinal - x0)/N\n",
    "    \n",
    "    # Calculamos la aproximación \n",
    "    taylorcillo = succ_taylor(F,t,z,h, p)\n",
    "\n",
    "    for n in range(N):\n",
    "        Y.append(taylorcillo.subs({t:X[n],z:Y[n]}) )\n",
    "    return X,Y"
   ]
  },
  {
   "cell_type": "markdown",
   "metadata": {},
   "source": [
    "# Ejercicios Taylor\n",
    "\n",
    "**Ejercicios:**\n",
    "1. Realice varios experimentos numéricos, con diferentes valores de $N$, y compare y ratifique los órdenes de convergencia de los diferentes métodos vistos hasta el momento.\n",
    " \n",
    "1. A partir de la implementación del algoritmo del método de Taylor de orden $p=2$, realice las modificaciones oportunas para obtener también una posible implementación correspondiente al método de Taylor de orden $p=3$.\n",
    "\n",
    "Este segundo ya está resuelto no solo para el caso concreto $p=3$ sino para cualquier $p>0$ :)"
   ]
  },
  {
   "cell_type": "code",
   "execution_count": 77,
   "metadata": {},
   "outputs": [],
   "source": [
    "\n",
    "import numpy as np\n",
    "import sympy as sp\n",
    "\n",
    "t,z = sp.symbols('t,z')\n",
    "\n",
    "def fact(x):\n",
    "    ''' factorial\n",
    "    '''\n",
    "    r = 1\n",
    "    for i in range(2,x):\n",
    "        r = r*i\n",
    "    return r\n",
    "\n",
    "\n",
    "def _diff(F,orden=1):\n",
    "    '''CALCULA DERIVADA\n",
    "    F(x,y(x)) (en función de sympy)\n",
    "    orden es el número de derivada \n",
    "    '''\n",
    "    def F_aux(x,y):\n",
    "            return sp.diff(F(t,z),t).subs({t:x,z:y})  + sp.diff(F(t,z),z).subs({t:x,z:y}) * F(t,z).subs({t:x,z:y}) \n",
    "        \n",
    "    if orden>1: \n",
    "        F_aux= _diff(F_aux, orden-1)\n",
    "        \n",
    "    return F_aux\n",
    "\n",
    "def serieTaylor(y0,F,h, orden = 1, ordenAcumulado=1, T = None,):\n",
    "    '''Devuelve serie de teylor de centrada en y0\n",
    "    y0: es el valor primero \n",
    "    F(x,y) es el valor de la derivada, aceptable por sympys\n",
    "    \n",
    "    Los parámetro ordenAcumulado y T NO SE TOCAN (son auxiliares a la función)\n",
    "    '''\n",
    "\n",
    "    if ordenAcumulado == 1:\n",
    "        df = F\n",
    "        def ret(x,y):\n",
    "            return y0 + h*F(x,y)\n",
    "    else:\n",
    "        df = _diff(T)\n",
    "        \n",
    "        def ret(x,y):\n",
    "            return F(x,y) + df(x,y)*h**ordenAcumulado/fact(ordenAcumulado)\n",
    "        print('entra',ret(t,z))\n",
    "        \n",
    "    if orden == ordenAcumulado:\n",
    "        return ret\n",
    "    else:\n",
    "        return serieTaylor(y0, ret, h, orden, (ordenAcumulado+1), df)\n",
    "        \n",
    "    \n",
    "def succ_taylor(F,x,y,h, p = 1):\n",
    "    '''Método de taylor, devuelve \n",
    "    y_{n+1} \n",
    "    calculado por el método de taylor \n",
    "    y_{n+1} = y_n + \\sum_{i = 1} ^p \\frac{h^i}{i!} derivada_orden_i(y_n)\n",
    "    ''' \n",
    "    taylorcillo = serieTaylor(y,F,h,p)\n",
    "    return taylorcillo(x,y)\n",
    "\n",
    "\n",
    "def complete_taylor(F, x0, y0, xfinal, N, p= 1):\n",
    "    X = np.linspace(x0,xfinal,N+1)\n",
    "    Y = [y0]\n",
    "    h = (xfinal - x0)/N\n",
    "    \n",
    "    # Calculamos la aproximación \n",
    "    taylorcillo = succ_taylor(F,t,z,h, p)\n",
    "\n",
    "    for n in range(N):\n",
    "        Y.append(taylorcillo.subs({t:X[n],z:Y[n]}) )\n",
    "    return X,Y"
   ]
  },
  {
   "cell_type": "code",
   "execution_count": 67,
   "metadata": {},
   "outputs": [],
   "source": [
    "## Definimos PVI\n",
    "def f2(x,y):\n",
    "    return 4*np.cos(x)\n",
    "def sp_f2(x,y):\n",
    "    return 4*sp.cos(x)\n",
    "\n"
   ]
  },
  {
   "cell_type": "code",
   "execution_count": 64,
   "metadata": {},
   "outputs": [
    {
     "name": "stdout",
     "output_type": "stream",
     "text": [
      "COMPARATIVAS CON N\n",
      "[10, 100, 1000]\n",
      "_____ orden 2_____-\n",
      "Para N=10 se ha tardado 0.0271151065826416\n",
      "Donde el error máximo es 2.77380788217674\n",
      "Para N=100 se ha tardado 0.15781331062316895\n",
      "Donde el error máximo es 0.279981206857724\n",
      "Para N=1000 se ha tardado 1.833040714263916\n",
      "Donde el error máximo es 0.0279999631475431\n",
      "_____ orden 3_____-\n",
      "Para N=10 se ha tardado 0.018686294555664062\n",
      "Donde el error máximo es 3.20304883813225\n",
      "Para N=100 se ha tardado 0.14974737167358398\n",
      "Donde el error máximo es 0.280438659448417\n",
      "Para N=1000 se ha tardado 1.8426401615142822\n",
      "Donde el error máximo es 0.0280004204824455\n",
      "_____ orden 4_____-\n",
      "Para N=10 se ha tardado 0.028788089752197266\n",
      "Donde el error máximo es 2.80402236092665\n",
      "Para N=100 se ha tardado 0.1630408763885498\n",
      "Donde el error máximo es 0.279981453666909\n",
      "Para N=1000 se ha tardado 1.8347203731536865\n",
      "Donde el error máximo es 0.0279999631500837\n"
     ]
    }
   ],
   "source": [
    "print ('COMPARATIVAS CON N')\n",
    "## recorremos partiendo de n= 10 de 30 en 30 \n",
    "xn = list() #nodos solución\n",
    "yn = list() # valor de los nodos \n",
    "N = [10**i for i in range(1,4)]\n",
    "print (N)\n",
    "\n",
    "for p in range(2,5):\n",
    "    print(f'_____ orden {p}_____-')\n",
    "    for n in N:\n",
    "        tiempo_inicial = time()\n",
    "        xx, yy= super_Taylor.complete_taylor(sp_f2,x0,y0,xfinal,n,p)\n",
    "        tiempo_final = time()\n",
    "    \n",
    "        ## almacenamso solución \n",
    "        xn.append(xx) \n",
    "        yn.append(yy)\n",
    "    \n",
    "        print(f'Para N={n} se ha tardado {tiempo_final - tiempo_inicial}')\n",
    "    #print(f'Donde la media de error es { np.mean(abs(sol(xx)-yEulerexpl))}')\n",
    "        print(f'Donde el error máximo es { abs(sol_f2(xx)-yy).max()}')\n",
    "    "
   ]
  },
  {
   "cell_type": "markdown",
   "metadata": {},
   "source": [
    "### Comparativas con otros métodos \n",
    "#### Euler explícito\n",
    "Sabemos que para $p=1$ coincide con el método de Euler explícito así que no lo vamos a comprobar.\n",
    "\n",
    "#### Punto medio y Heun\n",
    "Sabemos que ambos son de orden 2, así que comparémoslo con con $p=2$ y $p=3$"
   ]
  },
  {
   "cell_type": "code",
   "execution_count": 88,
   "metadata": {},
   "outputs": [
    {
     "data": {
      "image/png": "[encoded data removed]",
      "text/plain": [
       "<Figure size 576x288 with 1 Axes>"
      ]
     },
     "metadata": {
      "needs_background": "light"
     },
     "output_type": "display_data"
    }
   ],
   "source": [
    "x0 = 0\n",
    "y0 = 0\n",
    "h = 1/10\n",
    "N = 40\n",
    "xfinal = 7\n",
    "\n",
    "## varios nodo\n",
    "\n",
    "### punto medio \n",
    "x_pnt_medio, sol_pnt_medio = punto_medio.complete_integrate(f2,x0,y0,xfinal,N)\n",
    "### heun\n",
    "x_heun, sol_heun = heun.complete_integrate(f2,x0,y0,xfinal,N)\n",
    "\n",
    "### taylor super_Taylor.\n",
    "x_taylor_1, sol_taylor_1 = super_Taylor.complete_taylor(sp_f2,x0,y0,xfinal,N,2)\n",
    "x_taylor_2, sol_taylor_2 = super_Taylor.complete_taylor(sp_f2,x0,y0,xfinal,N,3)\n",
    "### solucion_real\n",
    "def sol_f2(x):\n",
    "    return 4*np.sin(x)\n",
    "   \n",
    "## gráfica\n",
    "nodos = [x_pnt_medio, x_heun,x_pnt_medio,x_taylor_1, x_taylor_2]\n",
    "soluciones = [sol_pnt_medio, sol_heun,sol_f2(x_pnt_medio),sol_taylor_1, sol_taylor_2]\n",
    "etiquetas = ['punto_medio', 'heun', 'sol exacta', 'taylor p= 2 ', 'taylor p=3']\n",
    "graph = fast_graph.multiple_draw(nodos,soluciones,etiquetas)\n"
   ]
  },
  {
   "cell_type": "markdown",
   "metadata": {},
   "source": [
    "\n",
    "# Métodos de Runge-Kutta\n",
    "**Ejercicios:**\n",
    "1. Repita las aproximaciones anteriores con diferentes valores de $N$ (y por tanto de $h$) y compruebe el efecto en cuanto a mayor o menor precisión, estabilidad y coste computacional \n",
    "1. A partir de la implementación del algoritmo del método de Runge-Kutta de 4 evaluaciones, realice las modificaciones oportunas para intentar obtener también las implementaciones correspondientes a otros muchos métodos de tipo Runge-Kutta, tanto explícitos como implícitos, a partir del correspondiente arreglo de Butcher.\n",
    "\n",
    "El ejercicio 2 queda implementado en `butcher.py` cuyo código aparece a continuación. "
   ]
  },
  {
   "cell_type": "code",
   "execution_count": 5,
   "metadata": {},
   "outputs": [
    {
     "name": "stdout",
     "output_type": "stream",
     "text": [
      "Overwriting butcher.py\n"
     ]
    }
   ],
   "source": [
    "%%file butcher.py\n",
    "'''\n",
    "Método de Butcher \n",
    "y algunos implemetados a partir de él: \n",
    "RK4: runge-kuta clásico \n",
    "RK2, con alfa beta parámetros\n",
    "'''\n",
    "\n",
    "import sympy as sp\n",
    "import numpy as np\n",
    "\n",
    "def succ_butcher(F,x,y,a,b,h):\n",
    "    '''\n",
    "    f derivada\n",
    "    y(x) = y que es el valor inicial \n",
    "    h = variación\n",
    "    a,b son coeficiente del arreglo de butcher\n",
    "    | c_1 | a11 a12 ...a1n\n",
    "    | c_2 | a21 a22 ...a2n\n",
    "             ...\n",
    "    | c_n | an1 an2 ...ann\n",
    "    ------------------------\n",
    "          | b1   b2 ... bn\n",
    "          \n",
    "    y representa \n",
    "    \n",
    "    x_{n+1} = x_n + h \\sum_{j=1}^n b_j K_j(t_n, x_n)\n",
    "    k_i(t,x) = f(t+c_i h, x+ h \\sum_{j=1}^n a_{ij} k_j(t,x))\n",
    "          \n",
    "    '''\n",
    "    n=len(b)\n",
    "    c = [ sum(a[i]) for i in range(n)]\n",
    "    K = sp.symbols('k0:'+str(n))\n",
    "    \n",
    "    def fk(f,i,t,x,h):\n",
    "        '''Representa K_i(t,x) = f(t+c_ih, sum a K_j) )\n",
    "        '''\n",
    "        return f( t+c[i]*h, x+h*sum(\n",
    "        [ a[i][j]*K[j] for j in range(n)]) )\n",
    "\n",
    "    l=[ - K[i] + fk(F,i,x,y,h)    for i in range(n)]\n",
    "    \n",
    "    sk =sp.solve(l, K)\n",
    "\n",
    "    \n",
    "    def solk(K, sk):\n",
    "        '''Solve puede que no nos devuelva todas las soluciones si son 0'''\n",
    "        l = [j for j in range(n)]\n",
    "        for i in range(n):\n",
    "            if K[i] in sk:\n",
    "                l[i] = sk[K[i]]\n",
    "            else:\n",
    "                l[i] =0\n",
    "        return l\n",
    "\n",
    "    sk =solk(K,sk)\n",
    "    \n",
    "    return y + h*sum([ b[i]*sk[i] for i in range(n)] ) \n",
    "    \n",
    "  \n",
    "def complete_butcher(F, x0, y0,xfinal, N, a, b):\n",
    "    '''\n",
    "    F función\n",
    "    x,y condiciones iniciales y(x_0) = y_0\n",
    "    xfinal = valor final hasta el que calcular\n",
    "    N número de intervalos \n",
    "    '''\n",
    "    t,z = sp.symbols('t z')\n",
    "    X = np.linspace(x0,xfinal,N+1)\n",
    "    Y = [y0]\n",
    "    h = (xfinal - x0)/N\n",
    "    \n",
    "    # Calculamos la aproximación \n",
    "    rk= succ_butcher(F,t,z,a,b,h)\n",
    "\n",
    "    for n in range(N):\n",
    "        Y.append(rk.subs({t:X[n],z:Y[n]}) )\n",
    "    return X,Y\n",
    "\n",
    "def succ_RK4(f,x, y, h):\n",
    "    n=4\n",
    "    a = [[0,0,0,0],\n",
    "         [1/2,0,0,0],\n",
    "         [0,1/2,0,0],\n",
    "         [0,0,1,0]\n",
    "        ]\n",
    "    \n",
    "    b = [1/6,1/3,1/3,1/6]\n",
    "    \n",
    "    return succ_butcher(f,x,y,a,b,h)\n",
    "\n",
    "def succ_RK2(f,x,y,h, alpha=1, beta=1/2):\n",
    "    '''\n",
    "    Recordemos que es óptimo en alpha*beta = 1/2\n",
    "    - Si alpha = 1, beta = 1/2: método Punto medio\n",
    "    - Si alpha 1/2, beta = 1: Heun (trapecio)\n",
    "    '''\n",
    "    n=2\n",
    "    a = [\n",
    "        [0,0],\n",
    "        [beta, 0]\n",
    "    ]\n",
    "    b = [1-alpha, alpha]\n",
    "    \n",
    "    return succ_butcher(f,x,y,a,b,h)\n",
    "\n",
    "\n",
    "\n",
    "\n",
    "def complete_RK2(F, x0, y0, xfinal, N, alpha=1, beta=1/2):\n",
    "    n=2\n",
    "    a = [\n",
    "        [0,0],\n",
    "        [beta, 0]\n",
    "    ]\n",
    "    b = [1-alpha, alpha]\n",
    "    return complete_butcher(F, x0, y0, xfinal, N, a, b)\n",
    "    \n",
    "def complete_RK4(F, x0, y0, xfinal, N):\n",
    "    '''\n",
    "    F función\n",
    "    x,y condiciones iniciales y(x_0) = y_0\n",
    "    xfinal = valor final hasta el que calcular\n",
    "    N número de intervalos \n",
    "    '''\n",
    "    t,z = sp.symbols('t z')\n",
    "    X = np.linspace(x0,xfinal,N+1)\n",
    "    Y = [y0]\n",
    "    h = (xfinal - x0)/N\n",
    "    \n",
    "    # Calculamos la aproximación \n",
    "    rk4= succ_RK4(F,t,z,h)\n",
    "\n",
    "    for n in range(N):\n",
    "        Y.append(rk4.subs({t:X[n],z:Y[n]}) )\n",
    "    return X,Y"
   ]
  },
  {
   "cell_type": "code",
   "execution_count": 2,
   "metadata": {},
   "outputs": [
    {
     "name": "stdout",
     "output_type": "stream",
     "text": [
      "Mi RK4  2.00534000533333\n",
      "RK4 profesor (array([0. , 0.2]), array([2.        , 2.00534001]))\n",
      "Mi RK2  2.00400000000000\n",
      "punto medio 2.004\n",
      "todas las soluciones (array([0.  , 0.05, 0.1 , 0.15, 0.2 ]), [2, 2.00006250000000, 2.00062505273547, 2.00218843180500, 2.00525600738241])\n"
     ]
    }
   ],
   "source": [
    "#Ejemplo para comprobar que está bien programado \n",
    "def f(x,y):\n",
    "    return x**2*y\n",
    "\n",
    "x = 0\n",
    "y = 2\n",
    "h = 0.2\n",
    "\n",
    "print('Mi RK4 ',butcher.succ_RK4(f,x,y,h))\n",
    "\n",
    "import RK4  # módulo del profesor\n",
    "print(f'RK4 profesor {RK4.integrate(f,x,y,h,1)}')\n",
    "print('Mi RK2 ',butcher.succ_RK2(f,x,y,h))\n",
    "print(f'punto medio {punto_medio.succ_integrate(f,x,y,h)}')\n",
    "\n",
    "print(f'todas las soluciones {butcher.complete_RK2(f, x, y, 0.2, 4)}')\n",
    "\n"
   ]
  },
  {
   "cell_type": "code",
   "execution_count": 13,
   "metadata": {},
   "outputs": [
    {
     "name": "stdout",
     "output_type": "stream",
     "text": [
      "Para N=10 se ha tardado 0.43708086013793945\n",
      "Donde el error máximo es 3.94179891995384\n",
      "Para N=30 se ha tardado 1.1345677375793457\n",
      "Donde el error máximo es 3.99581966839171\n",
      "Para N=50 se ha tardado 0.8995344638824463\n",
      "Donde el error máximo es 3.99810332242192\n"
     ]
    }
   ],
   "source": [
    "## EJERCICIO 1 Comparativa  \n",
    "\n",
    "def f2(x,y):\n",
    "    return 4*np.cos(x)\n",
    "\n",
    "x0 = 0\n",
    "y0 = 0\n",
    "h = 1/10\n",
    "N = 40\n",
    "xfinal = 7\n",
    "\n",
    "def sol_f2(x):\n",
    "    return 4*np.sin(x)\n",
    "\n",
    "comparativaN(butcher.complete_RK4, f2, x0, y0,xfinal, [10, 30, 50], sol_f2 )\n"
   ]
  },
  {
   "cell_type": "markdown",
   "metadata": {},
   "source": [
    "## MML basados en cuadraturas\n",
    "\n",
    "**Ejercicios:**\n",
    "1. A partir de la implementación del algoritmo del método de Adams-Bashforth anterior, realice las modificaciones oportunas para intentar obtener también las implementaciones correspondientes a otros muchos métodos de tipo Adams, como Adams-Moulton (AM), Milne-Simpson, Nyström y/o Newton-Cotes."
   ]
  },
  {
   "cell_type": "code",
   "execution_count": 24,
   "metadata": {},
   "outputs": [
    {
     "name": "stdout",
     "output_type": "stream",
     "text": [
      "Overwriting mml.py\n"
     ]
    }
   ],
   "source": [
    "%%file mml.py\n",
    "'''\n",
    "MML BASADOS EN CUADRATURA\n",
    "\n",
    "Aunque las abreviaturas las carga el diablo, \n",
    "las utilizadas aquí son: \n",
    "\n",
    "AM\n",
    "\n",
    "Nota: En algunos casos la variabel k es superflua, se ha añadido para que la cabecera \n",
    "tenga el mismo formato y sea totalmente versatil :)\n",
    "'''\n",
    "import numpy as np\n",
    "from eulerexplrapido import integrate as euler \n",
    "\n",
    "def succ_AB (F, B,t, X,h,k=None):\n",
    "    '''ADAMS-BASHFORTH\n",
    "    F derivada\n",
    "    B vectori coeficientes del métdodo (de aquí se obtiene la k)\n",
    "    h diferencia\n",
    "    matriz de X anteriores\n",
    "    ojo se está usando notación (t,x)\n",
    "    ''' \n",
    "    return X[-1] + h* sum([B[i]*F(t+h*i, X[i]) for i in range(len(B))])\n",
    "\n",
    "def complete_AB(F,x0,y0,xfinal,N, beta, m_inicial=euler):\n",
    "    '''\n",
    "    ojo se está usando notación (x,y)\n",
    "    '''\n",
    "    k = len(beta)\n",
    "    X = np.linspace(x0,xfinal,N+1)\n",
    "    h = (xfinal-x0)/N\n",
    "    Y = [y0]\n",
    "    \n",
    "    #calculamos primeras aprox con m_inicial \n",
    "    for i in range(k-1):\n",
    "        Y.append(m_inicial(F,X0[i],Y[-1], h))\n",
    "\n",
    "    for n in range(N-1):\n",
    "        Y.append(succ_AB(F,B,X[n],Y[-k:], h,k))\n",
    "                                \n",
    "    return np.array(X),np.array(Y)\n",
    "\n",
    "\n",
    "def succ_AM (F, B,t, X,h,k=None):\n",
    "    '''\n",
    "    F derivada\n",
    "    B vectori coeficientes del métdodo (de aquí se obtiene la k)\n",
    "    h diferencia\n",
    "    matriz de X anteriores\n",
    "    ojo se está usando notación (t,x)\n",
    "    ''' \n",
    "    return X[-2] + h* sum([B[i]*F(t+h*i, X[i]) for i in range(len(B))])\n",
    "\n",
    "def complete_AM(F,x0,y0,xfinal,N, beta, m_inicial, k=None):\n",
    "    '''\n",
    "    ojo se está usando notación (x,y)\n",
    "    '''\n",
    "    if(k==None):\n",
    "        k = len(beta)\n",
    "    X = np.linspace(x0,xfinal,N+1)\n",
    "    h = (xfinal-x0)/N\n",
    "    Y = [y0]\n",
    "    \n",
    "    #calculamos primeras aprox con m_inicial \n",
    "    for i in range(k-1):\n",
    "        Y.append(m_inicial(F,X0[i],Y[-1], h))\n",
    "\n",
    "    for n in range(N-1):\n",
    "        Y.append(succ_AM(F,B,X[n],Y[n],X[-k:], h,k))\n",
    "                                \n",
    "    return np.array(X),np.array(Y)\n",
    "\n",
    "def succ_MS (F, B,t, X,h,k=None):\n",
    "    '''\n",
    "    Milne-simpson\n",
    "    F derivada\n",
    "    B vectori coeficientes del métdodo (de aquí se obtiene la k)\n",
    "    h diferencia\n",
    "    matriz de X anteriores\n",
    "    ''' \n",
    "    return X[-3] + h* sum([B[i]*F(t+h*i, X[i]) for i in range(len(B))])\n",
    "\n",
    "def complete_MS(F,x0,y0,xfinal,N, beta, m_inicial):\n",
    "    k = len(beta)\n",
    "    X = np.linspace(x0,xfinal,N+1)\n",
    "    h = (xfinal-x0)/N\n",
    "    Y = [y0]\n",
    "    \n",
    "    #calculamos primeras aprox con m_inicial \n",
    "    for i in range(k-1):\n",
    "        Y.append(m_inicial(F,X0[i],Y[-1], h))\n",
    "\n",
    "    for n in range(N-1):\n",
    "        Y.append(succ_MS(F,B,X[n],Y[n],X[n:], h))\n",
    "                                \n",
    "    return np.array(X),np.array(Y)\n",
    "\n",
    "def succ_Nystrom (F, B,t, X, h, k):\n",
    "    '''\n",
    "    METODO NYSTROM\n",
    "    F derivada\n",
    "    B vectori coeficientes del métdodo va hasta la k-r\n",
    "    h diferencia\n",
    "    matriz de X anteriores\n",
    "    ''' \n",
    "    return X[k-3] + h* sum([B[i]*F(t+h*i, X[i]) for i in range(len(B))])\n",
    "\n",
    "def complete_Nystrom(F,k,x0,y0,xfinal,N, beta, m_inicial):\n",
    "    k = len(beta)\n",
    "    X = np.linspace(x0,xfinal,N+1)\n",
    "    h = (xfinal-x0)/N\n",
    "    Y = [y0]\n",
    "    \n",
    "    #calculamos primeras aprox con m_inicial \n",
    "    for i in range(k-1):\n",
    "        Y.append(m_inicial(F,X0[i],Y[-1], h))\n",
    "\n",
    "    for n in range(N-1):\n",
    "        Y.append(succ_Nystrom(F,B,X[n],Y[n],X[n:], h,k))\n",
    "                                \n",
    "    return np.array(X),np.array(Y)\n",
    "\n",
    "## Metodos para calcular alphas y betas con el mayor orden posible \n",
    "## Basado en la teoría de que tendrá orden p si pata todo i \\in {0..p} Ci = 0 y C_{p+1} \\neq 0\n",
    "def fact(n):\n",
    "    if n == 0:\n",
    "        return 1\n",
    "    else:\n",
    "        return n* fact(n-1)\n",
    "    \n",
    "def C(i, A, B, k):\n",
    "    '''\n",
    "    X_{n+k} = \\sum a_i x_{n+i} + h\\sum b_i f_i \n",
    "    A = [a_0, ...a_{k-1}]\n",
    "    B = [b_0,... b_{k}]\n",
    "    '''\n",
    "    if (i==0):\n",
    "        return 1 - sum(A)\n",
    "    else:\n",
    "        f = fact(i-1)\n",
    "        return k**i/(f*i) - sum( [ j**k/(f*i)*A[j] for j in range(1,len(A))]) - sum( [ j**(k-1)/f *B[j] for j in range(1,len(B))])"
   ]
  },
  {
   "cell_type": "markdown",
   "metadata": {},
   "source": [
    "## Ejercicio 12 relación de problemas\n",
    "\n",
    "Ejercicio 12 de la relación de teoría. \n",
    "Y de paso ejemplificamos el funcionamiento del programa anterior. \n",
    "\n",
    "Podemos observar que es de orden 2, ya que para p=3 el sistema que debería resolver es incompatible. \n",
    "\n",
    "Además el teorema de Dalquist nos dice que es concergente y alcanza orden máximo. \n",
    "\n"
   ]
  },
  {
   "cell_type": "code",
   "execution_count": 48,
   "metadata": {},
   "outputs": [
    {
     "data": {
      "text/plain": [
       "[(-1.00000000000000, -0.500000000000000)]"
      ]
     },
     "execution_count": 48,
     "metadata": {},
     "output_type": "execute_result"
    }
   ],
   "source": [
    "a,b = sp.symbols('a b')\n",
    "A = [-a, 1+a]\n",
    "B = [a, -(a+b+a*b), (1+b)]\n",
    "l = [C(i,A,B,2) for i in range(3)]\n",
    "\n",
    "print(f'Solución para p=2 {sp.solve(l,a,b)}') \n",
    "\n",
    "l = [C(i,A,B,2) for i in range(4)]\n",
    "print(f'Solución para p=3 {sp.solve(l,a,b)}')"
   ]
  },
  {
   "cell_type": "markdown",
   "metadata": {},
   "source": [
    "## Métodos Predictor-Corrector\n",
    "\n",
    "### Método de Adams-Bashforth-Moulton de orden 5\n",
    "Implementaremos a continuación un método MML Predictor-Corrector particular, combinando un predictor AB de 5 pasos con un corrector AM de 4, y aplicadon una sólo corrección en cada iteración:\n",
    "\n",
    "P: $y_{n+5}^{(0)} = y_{n+4} + \\frac{h}{720} (1901 f_{n+4} -2774 f_{n+3} +2616 f_{n+2} - 1274 f_{n+1} + 251 f_n)$\n",
    "\n",
    "C$^1$: $y_{n+5} = y_{n+4} + \\frac{h}{720} (251 f(t_{n+5},y_{n+5}^{(0)}) + 646 f_{n+4} -264 f_{n+3} +106 f_{n+2} - 19 f_{n+1}$ "
   ]
  },
  {
   "cell_type": "code",
   "execution_count": 59,
   "metadata": {},
   "outputs": [
    {
     "name": "stdout",
     "output_type": "stream",
     "text": [
      "Overwriting predictor_corrector.py\n"
     ]
    }
   ],
   "source": [
    "%%file predictor_corrector.py\n",
    "\n",
    "from eulerexplrapido import integrate as euler \n",
    "import numpy as np\n",
    "\n",
    "def pc(metodo_predictor,F, Bp,x0, y0,xfinal, metodo_corrector,Bc,N,metodo_inicial=euler, num_correciones =1):\n",
    "\n",
    "    \n",
    "    k = len(Bp)\n",
    "    X = np.linspace(x0,xfinal,N+1)\n",
    "    h = (xfinal-x0)/N\n",
    "    Y = [y0]\n",
    "    \n",
    "    #calculamos primeras aprox con m_inicial \n",
    "    for i in range(k-1):\n",
    "        Y.append(m_inicial(F,X0[i],Y[-1], h))\n",
    "\n",
    "    for n in range(N-1):\n",
    "        ys = metodo_predictor(F,Bp,X[n],Y[-k:], h,k)\n",
    "        \n",
    "        for i in range(1,num_correcciones):\n",
    "            ys = metodo_corrector(F,Bc,X[n],X[-k:]+[ys], h,(k+1))\n",
    "        \n",
    "        Y.append(metodo_corrector(F,Bc,X[n],X[-k:]+[ys], h,(k+1)))\n",
    "                    \n",
    "    \n",
    "    return np.array(X),np.array(Y)\n",
    "\n",
    "    \n",
    "    \n",
    "    \n",
    "    "
   ]
  },
  {
   "cell_type": "code",
   "execution_count": 64,
   "metadata": {},
   "outputs": [
    {
     "ename": "AttributeError",
     "evalue": "module 'predictor_corrector' has no attribute 'pc'",
     "output_type": "error",
     "traceback": [
      "\u001b[0;31m---------------------------------------------------------------------------\u001b[0m",
      "\u001b[0;31mAttributeError\u001b[0m                            Traceback (most recent call last)",
      "\u001b[0;32m<ipython-input-64-81e043954636>\u001b[0m in \u001b[0;36m<module>\u001b[0;34m\u001b[0m\n\u001b[1;32m     14\u001b[0m \u001b[0;32mdef\u001b[0m \u001b[0mf\u001b[0m\u001b[0;34m(\u001b[0m\u001b[0mx\u001b[0m\u001b[0;34m,\u001b[0m\u001b[0my\u001b[0m\u001b[0;34m)\u001b[0m\u001b[0;34m:\u001b[0m\u001b[0;34m\u001b[0m\u001b[0;34m\u001b[0m\u001b[0m\n\u001b[1;32m     15\u001b[0m     \u001b[0;32mreturn\u001b[0m \u001b[0mx\u001b[0m\u001b[0;34m\u001b[0m\u001b[0;34m\u001b[0m\u001b[0m\n\u001b[0;32m---> 16\u001b[0;31m \u001b[0mpredictor_corrector\u001b[0m\u001b[0;34m.\u001b[0m\u001b[0mpc\u001b[0m\u001b[0;34m(\u001b[0m\u001b[0mf\u001b[0m\u001b[0;34m,\u001b[0m\u001b[0mmml\u001b[0m\u001b[0;34m.\u001b[0m\u001b[0msucc_AB\u001b[0m\u001b[0;34m,\u001b[0m\u001b[0mBP\u001b[0m\u001b[0;34m,\u001b[0m \u001b[0mt0\u001b[0m\u001b[0;34m,\u001b[0m\u001b[0mx0\u001b[0m\u001b[0;34m,\u001b[0m \u001b[0mxfinal\u001b[0m\u001b[0;34m,\u001b[0m \u001b[0mmml\u001b[0m\u001b[0;34m.\u001b[0m\u001b[0msucc_AB\u001b[0m\u001b[0;34m,\u001b[0m \u001b[0mBC\u001b[0m\u001b[0;34m,\u001b[0m\u001b[0;36m10\u001b[0m\u001b[0;34m)\u001b[0m\u001b[0;34m\u001b[0m\u001b[0;34m\u001b[0m\u001b[0m\n\u001b[0m",
      "\u001b[0;31mAttributeError\u001b[0m: module 'predictor_corrector' has no attribute 'pc'"
     ]
    }
   ],
   "source": [
    "# import mml \n",
    "\n",
    "from importlib import reload  \n",
    "import predictor_corrector\n",
    "\n",
    "reload(mml)\n",
    "BP =  list(map((lambda x: x/720), [251, -1274, 2616,-2774,1901]))    \n",
    "BC = list (map((lambda x: x/720), [-19,   106,-264,646,251]))\n",
    "\n",
    "# Para que funcione darle valores más allá de los simbólicos\n",
    "t0,x0, xfinal, N = sp.symbols('t0 x0 xe N')\n",
    "f = sp.Function('f')(t0,x0)\n",
    "t0 = 0; x0 = 1; xfinal = 1; N = 10 \n",
    "def f(x,y):\n",
    "    return x\n",
    "predictor_corrector.pc(f,mml.succ_AB,BP, t0,x0, xfinal, mml.succ_AB, BC,10)\n"
   ]
  },
  {
   "cell_type": "code",
   "execution_count": 20,
   "metadata": {},
   "outputs": [
    {
     "data": {
      "text/plain": [
       "[2, 4]"
      ]
     },
     "execution_count": 20,
     "metadata": {},
     "output_type": "execute_result"
    }
   ],
   "source": [
    " list(map((lambda x: 2*x), [1,2]))"
   ]
  },
  {
   "cell_type": "markdown",
   "metadata": {},
   "source": [
    "\n"
   ]
  },
  {
   "cell_type": "markdown",
   "metadata": {},
   "source": [
    "# Funciones extras pa trabajar más rápido \n",
    "\n"
   ]
  },
  {
   "cell_type": "code",
   "execution_count": 15,
   "metadata": {},
   "outputs": [
    {
     "name": "stdout",
     "output_type": "stream",
     "text": [
      "Overwriting fast_graph.py\n"
     ]
    }
   ],
   "source": [
    "%%file fast_graph.py\n",
    "'''PINTA GRÁFICAS RÁPIDO \n",
    "    xx = array numpy con nodos\n",
    "    yy = valores de esos nodos \n",
    "'''\n",
    "import matplotlib.pyplot as plt\n",
    "\n",
    "def draw_one(xx,yy,my_label='aprox'):\n",
    "    fig, ax = plt.subplots(figsize=(8, 4))\n",
    "    ax.plot(xx, yy, label=my_label)   \n",
    "    ax.legend()\n",
    "    fig.tight_layout()\n",
    "    return fig\n",
    "\n",
    "def multiple_draw(vx,vy,vlabel):\n",
    "    fig, ax = plt.subplots(figsize=(8, 4))\n",
    "    \n",
    "    for i in range(len(vy)):\n",
    "        ax.plot(vx[i],vy[i], label=f'aprox n={vlabel[i]}')\n",
    "    \n",
    "    ax.legend()\n",
    "    fig.tight_layout()\n",
    "    return fig\n",
    " "
   ]
  },
  {
   "cell_type": "code",
   "execution_count": 20,
   "metadata": {},
   "outputs": [],
   "source": [
    "from time import time  # para medir tiempos de cálculo \n",
    "\n",
    "def comparativaN(f_metodo, F, x, y,xfinal,  N = [10**i for i in range(1,4)], sol = False):\n",
    "    '''\n",
    "    Función para comparar tiempo en función de N\n",
    "    f\n",
    "    '''\n",
    "## recorremos partiendo de n= 10 de 30 en 30 \n",
    "    xn = list() #nodos solución\n",
    "    yn = list() # valor de los nodos \n",
    "   \n",
    "   \n",
    "    for n in N:\n",
    "        tiempo_inicial = time()\n",
    "        xx, yy = f_metodo(f,x,y,xfinal, n)\n",
    "        tiempo_final = time()\n",
    "    \n",
    "    ## almacenamso solución \n",
    "        xn.append(xx) \n",
    "        yn.append(yy)\n",
    "    ## mostramos resultados en pantalla \n",
    "        print(f'Para N={n} se ha tardado {tiempo_final - tiempo_inicial}')\n",
    "        #print(f'Donde la media de error es { np.mean(abs(sol(xx)-yEulerexpl))}')\n",
    "        print(f'Donde el error máximo es { abs(sol(xx)-yy).max()}')\n",
    "    "
   ]
  },
  {
   "cell_type": "code",
   "execution_count": 25,
   "metadata": {},
   "outputs": [
    {
     "data": {
      "text/plain": [
       "1"
      ]
     },
     "execution_count": 25,
     "metadata": {},
     "output_type": "execute_result"
    }
   ],
   "source": []
  }
 ],
 "metadata": {
  "kernelspec": {
   "display_name": "Python 3",
   "language": "python",
   "name": "python3"
  },
  "language_info": {
   "codemirror_mode": {
    "name": "ipython",
    "version": 3
   },
   "file_extension": ".py",
   "mimetype": "text/x-python",
   "name": "python",
   "nbconvert_exporter": "python",
   "pygments_lexer": "ipython3",
   "version": "3.8.2"
  }
 },
 "nbformat": 4,
 "nbformat_minor": 2
}
