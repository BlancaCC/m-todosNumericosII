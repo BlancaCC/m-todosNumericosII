{
 "cells": [
  {
   "cell_type": "markdown",
   "metadata": {},
   "source": [
    "# Práctica del tema 2\n",
    "Blanca Cano Camarero"
   ]
  },
  {
   "cell_type": "code",
   "execution_count": 1,
   "metadata": {},
   "outputs": [],
   "source": [
    "# import necesarios para la práctica\n",
    "import sympy as sp\n",
    "import numpy as np\n",
    "\n",
    "## ficheros propios\n",
    "#### De vuelve el polinomio de interpolación de newton \n",
    "import polinomioNewton as pn # polinomioNewton([a-h,a,a+h])"
   ]
  },
  {
   "cell_type": "markdown",
   "metadata": {},
   "source": [
    "# Ejercicio 1\n",
    "1.- Obtenga mediante interpolación en el espacio $\\mathbb{P}_2$ una fórmula para aproximar $f''(a)$ del tipo combinación\n",
    "de $f(a-h)$, $f(a)$ y $f(a+h)$.\n"
   ]
  },
  {
   "cell_type": "code",
   "execution_count": 3,
   "metadata": {},
   "outputs": [
    {
     "output_type": "execute_result",
     "data": {
      "text/plain": "(-2*f(a) + f(a - h) + f(a + h))/h**2",
      "text/latex": "$\\displaystyle \\frac{- 2 f{\\left(a \\right)} + f{\\left(a - h \\right)} + f{\\left(a + h \\right)}}{h^{2}}$"
     },
     "metadata": {},
     "execution_count": 3
    }
   ],
   "source": [
    "a,h,z = sp.symbols('a,h,z')\n",
    "x = [a-h, a, a+h]\n",
    "\n",
    "#llamamos a nuestra funcioncilla que nos calcula polinomios de interpolación de newton\n",
    "## (para ver su código mirar en polinomioNewton.py)\n",
    "p = pn.polinomioNewton(x)\n",
    "\n",
    "## Finalemente, derivamos pa obtener nuestra fórmula buscada\n",
    "formula=sp.diff(p,z,2).subs({z:a}).simplify() # esta será la fórmula\n",
    "# obtenida esta vez para aproximar la derivada segunda f''(a)\n",
    "formula"
   ]
  },
  {
   "cell_type": "markdown",
   "metadata": {},
   "source": [
    "## Ejercicio 2\n",
    "2.- Con la fórmula obtenida en el ejercicio 1, halle una tabla de aproximaciones y errores de $f_1''(2.5)$, siendo $f_1(x)=x^x$, para $h=10^{-i},\\; i=1,\\ldots,5.$\n",
    "\n",
    "3.- Sea $f_2(x)=\\frac{x^2+40}{x+\\sqrt{5x}+7}$. Calcule una tabla que recoja las derivadas de $f_2$ en $x_i=1,2,\\ldots,10$, utilizando alguna de las fórmulas de derivación numérica de primer orden obtenidas al inicio de la práctica, con $h=10^{-3}$, y muestre al mismo tiempo el error cometido en cada punto. Repita el ejercicio con la fórmula centrada obtenida para la derivada primera y, finalmente, para la obtenida en el ejercicio 1 (con respecto a la segunda derivada)."
   ]
  },
  {
   "cell_type": "code",
   "execution_count": null,
   "metadata": {},
   "outputs": [],
   "source": []
  },
  {
   "cell_type": "code",
   "execution_count": 5,
   "metadata": {},
   "outputs": [],
   "source": [
    "\n",
    "\n",
    "# declaramos las fórmulas\n",
    "def rectangulo_izquierdo(f,a,b):\n",
    "    return f(a)*(b-a)\n",
    "\n",
    "def simpson(f, a, b):\n",
    "    return 1/6*(f(a)+4*f((a+b)/2)+f(b))*(b-a)\n",
    "\n",
    "def trapecio(f,a,b):\n",
    "    return (f(a)+f(b))/2*(b-a)\n",
    "\n",
    "def formula_compuesta (f,formula,a,b,n):\n",
    "    h = (b-a)/n\n",
    "    return sum([formula(f,a+i*h,a+(i+1)*h) for i in range(n)])"
   ]
  },
  {
   "cell_type": "markdown",
   "metadata": {},
   "source": [
    "# Ejericicios 4 y 5\n",
    "\n",
    "4.- Divida el intervalo $[1,2]$ en 100 partes iguales y aplique las fórmulas del rectángulo, Simpson y trapecio compuestas para aproximar la integral en dicho intervalo de $f_1$. Compare dichos resultados.\n",
    "\n",
    "5.- Repita el ejercicio 4 para $f_2$. "
   ]
  },
  {
   "cell_type": "code",
   "execution_count": 18,
   "metadata": {},
   "outputs": [
    {
     "name": "stdout",
     "output_type": "stream",
     "text": [
      "___Integral para f1___\n",
      "Integra por rectángulo izquierdo 2.0354943390855578\n",
      "Integra por trapecio 2.0504943390855574\n",
      "Integra por simpson 2.0504462346235286\n",
      "___Integral para f2___\n",
      "Integra por rectángulo izquierdo 3.77852320278209\n",
      "Integra por trapecio 3.77658469845732\n",
      "Integra por simpson 3.77658111777024\n"
     ]
    }
   ],
   "source": [
    "def f1(x):\n",
    "    return x**x\n",
    "print(\"___Integral para f1___\")\n",
    "print(f'Integra por rectángulo izquierdo {formula_compuesta(f1,rectangulo_izquierdo,1,2,100)}')\n",
    "print(f'Integra por trapecio {formula_compuesta(f1,trapecio,1,2,100)}')\n",
    "print(f'Integra por simpson {formula_compuesta(f1,simpson,1,2,100)}')\n",
    "\n",
    "def f2(x):\n",
    "    return (x*x+40)/(x+sqrt(5*x)+7)\n",
    "print(\"___Integral para f2___\")\n",
    "print(f'Integra por rectángulo izquierdo {formula_compuesta(f2,rectangulo_izquierdo,1,2,100)}')\n",
    "print(f'Integra por trapecio {formula_compuesta(f2,trapecio,1,2,100)}')\n",
    "print(f'Integra por simpson {formula_compuesta(f2,simpson,1,2,100)}')\n"
   ]
  },
  {
   "cell_type": "markdown",
   "metadata": {},
   "source": [
    "Comentario: \n",
    "Como podemos observar dan un resultado similar, siend trapecio y simpson muy parecidas entre sí.  "
   ]
  },
  {
   "cell_type": "markdown",
   "metadata": {},
   "source": [
    "6.- Sea $f_3(x)=x^{15} e^x$ en $[0,2]$. Vamos a dividir el intervalo en $10\\times 2^n$ subintervalos, es decir, $10,\\,20,\\,40,\\, 80,\\ldots $ y a aplicar la fórmula de Simpson compuesta hasta que la diferencia entre dos aproximaciones consecutivas (por ejemplo, podrían\n",
    "ser con $20$ y $40$ subintervalos) sea menor que $10^{-2}$, dando en tal caso por buena la última aproximación obtenida. Programe\n",
    "y calcule dicha aproximación. Compare ambas aproximaciones con\n",
    "el valor exacto."
   ]
  },
  {
   "cell_type": "code",
   "execution_count": 25,
   "metadata": {},
   "outputs": [
    {
     "name": "stdout",
     "output_type": "stream",
     "text": [
      "Aplicando la regla de barrow el valor es 27062.7024138996\n",
      "La a integral aproximada (en la iteración 6)  es 27062.702480891196\n",
      "El error es de 0.0000213214760707824\n"
     ]
    }
   ],
   "source": [
    "import numpy as np\n",
    "def f3(x):\n",
    "    return x**(15) * np.exp(x)\n",
    "\n",
    "## cálculo de valor exacto por regla de barrow\n",
    "x = sp.symbols(\"x\")\n",
    "f3s = x**15 * sp.exp(x) \n",
    "If3s = sp.integrate(f3s,x)\n",
    "exacto = If3s.subs(x,2)-If3s.subs(x,0)\n",
    "print(f'Aplicando la regla de barrow el valor es {exacto.evalf()}')\n",
    "diferencia = 9\n",
    "y = formula_compuesta(f3,simpson,0,2,10)\n",
    "n= 1\n",
    "while diferencia > 10**(-2):\n",
    "    ys = formula_compuesta(f3,simpson,0,2,10*2**(n))\n",
    "    n += 1\n",
    "    diferencia = abs(ys-y)\n",
    "    y = ys\n",
    "print (f'La a integral aproximada (en la iteración {n})  es {y}')\n",
    "print (f'El error es de {abs(exacto-y).evalf()}')"
   ]
  },
  {
   "cell_type": "markdown",
   "metadata": {},
   "source": [
    "7.- Calcule las fórmulas gaussianas con $2$ y $3$ nodos,en el intervalo $[-1,1]$, siendo la función peso el valor absoluto de la variable. Aplíquelas para aproximar la función $x\\; e^x$ en $[-1,1]$ y compare los resultados con el valor exacto (organizando los cálculos de forma adecuada).\n"
   ]
  },
  {
   "cell_type": "code",
   "execution_count": 167,
   "metadata": {},
   "outputs": [],
   "source": [
    "#calcula nodos\n",
    "def gaussiana (a, b, n,w):\n",
    "    \n",
    "    #calculamos integrales\n",
    "    x = sp.symbols(\"x\")\n",
    "    l = [None]+[sp.integrate(w(x)*x**i,(x, a, b))for i in range(2*n)]\n",
    "    \n",
    "    #coeficientes   a resolver\n",
    "    c = list(sp.symbols('c0:'+ str(n)))\n",
    "   \n",
    "    #planteamos ecuaciones del sistema\n",
    "    s = [np.dot(l[n+i:0+i:-1],c) - l[n+1+i]for i in range(n)]\n",
    "    r =sp.solve(s,c) #ya tenemos los coeficientes de x**n+ c0x**(n-1) + ... + cix**(n-i)\n",
    "    #las raíces del polinomio anterior son los nodos buscados\n",
    "    return sp.solve(-sum([(x**e)*v  for e,v in zip(range(1,-1,-1),r.values())])+x**n)\n"
   ]
  },
  {
   "cell_type": "code",
   "execution_count": 201,
   "metadata": {
    "scrolled": true
   },
   "outputs": [
    {
     "name": "stdout",
     "output_type": "stream",
     "text": [
      "[6**(1/3)/2, -6**(1/3)/4 - 2**(1/3)*3**(5/6)*I/4, -6**(1/3)/4 + 2**(1/3)*3**(5/6)*I/4]\n"
     ]
    },
    {
     "data": {
      "text/plain": [
       "{c0: 4*6**(1/3)/27 + 2/3,\n",
       " c1: -2*6**(1/3)/27 + 2/3 - 2*2**(1/3)*3**(5/6)*I/27,\n",
       " c2: -2*6**(1/3)/27 + 2/3 + 2*2**(1/3)*3**(5/6)*I/27}"
      ]
     },
     "execution_count": 201,
     "metadata": {},
     "output_type": "execute_result"
    }
   ],
   "source": [
    "def w1(x):\n",
    "    return 1/sp.sqrt(1-x**2)\n",
    "    #return 1\n",
    "f=sp.Function('f')\n",
    "#gauss lendemdre nodos\n",
    "\n",
    "## coeficientes \n",
    "a = -1\n",
    "b = 1\n",
    "n = 3\n",
    "nodos = gaussiana(a,b,n,w1)\n",
    "\n",
    "c2 = list(sp.symbols('c0:'+ str(n)))\n",
    "#r =[np.dot([sp.integrate(nodos[j]**i,(x, a, b))for j in range(n)],c2)for i in range(n)]\n",
    "\n",
    "def w2(y):\n",
    "    return 1/sp.sqrt(1-y**2)\n",
    "##\n",
    "#gaussiana(-1,1,3,w2)\n",
    "print(nodos)\n",
    "sp.solve([np.dot([nodos[j]**i for j in range(n)],c2) - sp.integrate( x**i*w(x),(x, a, b)) for i in range(n)],c2)\n"
   ]
  },
  {
   "cell_type": "code",
   "execution_count": 52,
   "metadata": {},
   "outputs": [
    {
     "data": {
      "text/plain": [
       "[c0, c1, c2, c3, c4, c5]"
      ]
     },
     "execution_count": 52,
     "metadata": {},
     "output_type": "execute_result"
    }
   ],
   "source": [
    "\n",
    "coefs = list(sp.symbols('c0:'+ str(n)))\n",
    "coefs"
   ]
  }
 ],
 "metadata": {
  "kernelspec": {
   "display_name": "Python 3.8.2 64-bit",
   "language": "python",
   "name": "python38264bit992ef6d2103d4908afe7c5d4de2c620d"
  },
  "language_info": {
   "codemirror_mode": {
    "name": "ipython",
    "version": 3
   },
   "file_extension": ".py",
   "mimetype": "text/x-python",
   "name": "python",
   "nbconvert_exporter": "python",
   "pygments_lexer": "ipython3",
   "version": "3.8.2-final"
  }
 },
 "nbformat": 4,
 "nbformat_minor": 2
}