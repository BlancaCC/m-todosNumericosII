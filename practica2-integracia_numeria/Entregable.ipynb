{
 "cells": [
  {
   "cell_type": "markdown",
   "metadata": {},
   "source": [
    "# Práctica del tema 2\n",
    "Blanca Cano Camarero"
   ]
  },
  {
   "cell_type": "code",
   "execution_count": 4,
   "metadata": {},
   "outputs": [],
   "source": [
    "# import necesarios para la práctica\n",
    "import sympy as sp\n",
    "import numpy as np\n",
    "\n",
    "## ficheros propios\n",
    "#### De vuelve el polinomio de interpolación de newton \n",
    "import polinomioNewton as pn # polinomioNewton([a-h,a,a+h])\n",
    "\n",
    "##### Algunas fórmulas de integración \n",
    "import formulasIntegracion as fs\n",
    "\n",
    "#### cuadratura gaussina\n",
    "import nodosGaussiana as ng"
   ]
  },
  {
   "cell_type": "markdown",
   "metadata": {},
   "source": [
    "# Ejercicio 1\n",
    "1.- Obtenga mediante interpolación en el espacio $\\mathbb{P}_2$ una fórmula para aproximar $f''(a)$ del tipo combinación\n",
    "de $f(a-h)$, $f(a)$ y $f(a+h)$.\n"
   ]
  },
  {
   "cell_type": "code",
   "execution_count": 2,
   "metadata": {},
   "outputs": [
    {
     "name": "stdout",
     "output_type": "stream",
     "text": [
      "(-2*f(a) + f(a - h) + f(a + h))/h**2\n"
     ]
    },
    {
     "data": {
      "text/latex": [
       "$\\displaystyle \\frac{- 2 f{\\left(a \\right)} + f{\\left(a - h \\right)} + f{\\left(a + h \\right)}}{h^{2}}$"
      ],
      "text/plain": [
       "(-2*f(a) + f(a - h) + f(a + h))/h**2"
      ]
     },
     "execution_count": 2,
     "metadata": {},
     "output_type": "execute_result"
    }
   ],
   "source": [
    "a,h,z = sp.symbols('a,h,z')\n",
    "x = [a-h, a, a+h]\n",
    "\n",
    "#llamamos a nuestra funcioncilla que nos calcula polinomios de interpolación de newton\n",
    "## (para ver su código mirar en polinomioNewton.py)\n",
    "p = pn.polinomioNewton(x)\n",
    "\n",
    "## Finalemente, derivamos pa obtener nuestra fórmula buscada\n",
    "formula=sp.diff(p,z,2).subs({z:a}).simplify() # esta será la fórmula\n",
    "# obtenida esta vez para aproximar la derivada segunda f''(a)\n",
    "print(formula)\n",
    "formula"
   ]
  },
  {
   "cell_type": "markdown",
   "metadata": {},
   "source": [
    "## Ejercicio 2\n",
    "2.- Con la fórmula obtenida en el ejercicio 1, halle una tabla de aproximaciones y errores de $f_1''(2.5)$, siendo $f_1(x)=x^x$, para $h=10^{-i},\\; i=1,\\ldots,5.$\n"
   ]
  },
  {
   "cell_type": "code",
   "execution_count": 5,
   "metadata": {},
   "outputs": [
    {
     "name": "stdout",
     "output_type": "stream",
     "text": [
      "h          | a            | f(a) aprox            | error\n",
      "-----------------------------------------------------------------\n",
      "10^(-1)    | 2.5          | 40.4205682979584      |0.178903441570895\n",
      "10^(-2)    | 2.5          | 40.2434502309567      |0.00178537456920225\n",
      "10^(-3)    | 2.5          | 40.2416827097676      |0.0000178533801502567\n",
      "10^(-4)    | 2.5          | 40.2416650349212      |1.78533753114607E-7\n",
      "10^(-5)    | 2.5          | 40.2416648581728      |1.78533099415290E-9\n"
     ]
    }
   ],
   "source": [
    "## derivada aproximada \n",
    "def d2(f):\n",
    "    return (-2*f(a) + f(a - h) + f(a + h))/h**2\n",
    "\n",
    "def g(x):\n",
    "    return x**x\n",
    "\n",
    "\n",
    "\n",
    "### derivada exacta\n",
    "g2 = sp.lambdify(z,sp.diff(z**z, z, 2), 'numpy')\n",
    "\n",
    "#####\n",
    "def g2_aprox(formula, g,mia, eh):\n",
    "    \"\"\"Devuelve la derivada aproximada de g con la fórmula \"formula\" en el punto mia, con h valiendo eh\n",
    "    Argumentos:\n",
    "        formula: aplicación lineal, con la que este caso aproximamos derivadas\n",
    "        g la función de la que queremos calcular la derivada\n",
    "        mia: punto en el que geremos calcular a\n",
    "        eh: variación de h\n",
    "    \"\"\"\n",
    "    return formula(g).evalf(subs={a:mia,h:10**(-eh)})\n",
    "\n",
    "### hacemos una función pa representar la tablilla\n",
    "\n",
    "def tabla(formula,faprox, fexac, nodos, vh):\n",
    "    print(f' h          | a \\t  | f(a) aprox \\t | error'.expandtabs(25))\n",
    "    print('-'*65)\n",
    "    for x in nodos:\n",
    "        valor_exacto = fexac(x)\n",
    "        for mih in vh:\n",
    "            v = g2_aprox(formula,faprox,x,mih)\n",
    "            print(f'10^(-{mih})    | {x} \\t | {v} \\t|{abs(v-valor_exacto)}'.expandtabs(25))\n",
    "\n",
    "\n",
    "tabla(d2,g,g2,[2.5],[*range(1,6)])    \n"
   ]
  },
  {
   "cell_type": "markdown",
   "metadata": {},
   "source": [
    "## Ejercicio 3\n",
    "3.- Sea $f_2(x)=\\frac{x^2+40}{x+\\sqrt{5x}+7}$. Calcule una tabla que recoja las derivadas de $f_2$ en $x_i=1,2,\\ldots,10$, utilizando alguna de las fórmulas de derivación numérica de primer orden obtenidas al inicio de la práctica, con $h=10^{-3}$, y muestre al mismo tiempo el error cometido en cada punto. Repita el ejercicio con la fórmula centrada obtenida para la derivada primera y, finalmente, para la obtenida en el ejercicio 1 (con respecto a la segunda derivada)."
   ]
  },
  {
   "cell_type": "code",
   "execution_count": 11,
   "metadata": {},
   "outputs": [
    {
     "name": "stdout",
     "output_type": "stream",
     "text": [
      "Las aproximaciones para la segunda derivada son \n",
      " h          | a            | f(a) aprox            | error\n",
      "-----------------------------------------------------------------\n",
      "10^(-3)    | 1            | 0.676265261235160     |1.62949784665578E-7\n",
      "10^(-3)    | 2            | 0.283220380779308     |1.66032020909590E-8\n",
      "10^(-3)    | 3            | 0.168340324507543     |4.57942220255525E-9\n",
      "10^(-3)    | 4            | 0.114907314792673     |1.89762004720873E-9\n",
      "10^(-3)    | 5            | 0.0846224312804510    |9.93457316411650E-10\n",
      "10^(-3)    | 6            | 0.0654364319768901    |6.12947123612706E-10\n",
      "10^(-3)    | 7            | 0.0523721747995802    |4.30544377927333E-10\n",
      "10^(-3)    | 8            | 0.0430109452392692    |3.36394023747744E-10\n",
      "10^(-3)    | 9            | 0.0360420060101230    |2.86374354785401E-10\n",
      "10^(-3)    | 10           | 0.0306970069224294    |2.60408326846484E-10\n",
      "\n",
      "Derivamos una vez el polinomio de newton, para obtener la primera derivada\n",
      "(-f(a - h) + f(a + h))/(2*h)\n",
      "\n",
      "\n",
      " Las proximaciones para la primera derivada\n",
      " h          | a            | f(a) aprox            | error\n",
      "-----------------------------------------------------------------\n",
      "10^(-3)    | 1            | -0.633413983453862    |1.41948961474014E-7\n",
      "10^(-3)    | 2            | -0.203730021215820    |2.98523985808874E-8\n",
      "10^(-3)    | 3            | 0.0135536643822118    |1.22135472690327E-8\n",
      "10^(-3)    | 4            | 0.152356375979550     |6.46680242688547E-9\n",
      "10^(-3)    | 5            | 0.250865047976407     |3.92670773674553E-9\n",
      "10^(-3)    | 6            | 0.325234483749073     |2.59700044802358E-9\n",
      "10^(-3)    | 7            | 0.383753087445717     |1.82151538297148E-9\n",
      "10^(-3)    | 8            | 0.431201819322740     |1.33390964940361E-9\n",
      "10^(-3)    | 9            | 0.470566738047861     |1.00977470829378E-9\n",
      "10^(-3)    | 10           | 0.503824069630687     |7.84850628932077E-10\n"
     ]
    }
   ],
   "source": [
    "def f2(x):\n",
    "    return (x**2 +40) / (x+(5*x)**(1/2)+7)\n",
    "\n",
    "\n",
    "### Vamos a comenzar con la segunda derivada\n",
    "ddf=sp.diff( (z**2 +40) / (z+(5*z)**(1/2)+7), z, 2)\n",
    "ddf=sp.lambdify(z,ddf, 'numpy')\n",
    "x = [*range(1,11)]\n",
    "\n",
    "### tabla para la segunda derivada \n",
    "print('Las aproximaciones para la segunda derivada son ')\n",
    "tabla(d2,f2,ddf,x,[3])\n",
    "\n",
    "## ________Para la fórmula centrada ____\n",
    "print('\\nDerivamos una vez el polinomio de newton, para obtener la primera derivada')\n",
    "formula=sp.diff(p,z,1).subs({z:a}).simplify() # esta será la fórmula\n",
    "# obtenida esta vez para aproximar la derivada segunda f''(a)\n",
    "print(formula)\n",
    "\n",
    "#copiamso en el return la fórmula anterior\n",
    "def df_aprox(f):\n",
    "    return (-f(a - h) + f(a + h))/(2*h)\n",
    "\n",
    "#calculamos primera derivada exacta\n",
    "df=sp.diff( (z**2 +40) / (z+(5*z)**(1/2)+7), z, 1)\n",
    "df=sp.lambdify(z,df, 'numpy')\n",
    "\n",
    "print('\\n\\n Las proximaciones para la primera derivada')\n",
    "tabla(df_aprox,f2,df,x,[3] )\n"
   ]
  },
  {
   "cell_type": "code",
   "execution_count": null,
   "metadata": {},
   "outputs": [],
   "source": []
  },
  {
   "cell_type": "code",
   "execution_count": 5,
   "metadata": {},
   "outputs": [],
   "source": [
    "\n",
    "# Algunas de las definidas en formulasSimples.py\n",
    "# declaramos las fórmulas\n",
    "def rectangulo_izquierdo(f,a,b):\n",
    "    return f(a)*(b-a)\n",
    "\n",
    "def simpson(f, a, b):\n",
    "    return 1/6*(f(a)+4*f((a+b)/2)+f(b))*(b-a)\n",
    "\n",
    "def trapecio(f,a,b):\n",
    "    return (f(a)+f(b))/2*(b-a)\n",
    "\n",
    "def formula_compuesta (f,formula,a,b,n):\n",
    "    h = (b-a)/n\n",
    "    return sum([formula(f,a+i*h,a+(i+1)*h) for i in range(n)])\n",
    "\n",
    "\n"
   ]
  },
  {
   "cell_type": "markdown",
   "metadata": {},
   "source": [
    "# Ejericicios 4 y 5\n",
    "\n",
    "4.- Divida el intervalo $[1,2]$ en 100 partes iguales y aplique las fórmulas del rectángulo, Simpson y trapecio compuestas para aproximar la integral en dicho intervalo de $f_1$. Compare dichos resultados.\n",
    "\n",
    "5.- Repita el ejercicio 4 para $f_2$. "
   ]
  },
  {
   "cell_type": "code",
   "execution_count": 18,
   "metadata": {},
   "outputs": [
    {
     "name": "stdout",
     "output_type": "stream",
     "text": [
      "___Integral para f1___\n",
      "Integra por rectángulo izquierdo 2.0354943390855578\n",
      "Integra por trapecio 2.0504943390855574\n",
      "Integra por simpson 2.0504462346235286\n",
      "___Integral para f2___\n",
      "Integra por rectángulo izquierdo 3.77852320278209\n",
      "Integra por trapecio 3.77658469845732\n",
      "Integra por simpson 3.77658111777024\n"
     ]
    }
   ],
   "source": [
    "def f1(x):\n",
    "    return x**x\n",
    "print(\"___Integral para f1___\")\n",
    "print(f'Integra por rectángulo izquierdo {formula_compuesta(f1,rectangulo_izquierdo,1,2,100)}')\n",
    "print(f'Integra por trapecio {formula_compuesta(f1,trapecio,1,2,100)}')\n",
    "print(f'Integra por simpson {formula_compuesta(f1,simpson,1,2,100)}')\n",
    "\n",
    "def f2(x):\n",
    "    return (x*x+40)/(x+sqrt(5*x)+7)\n",
    "print(\"___Integral para f2___\")\n",
    "print(f'Integra por rectángulo izquierdo {formula_compuesta(f2,rectangulo_izquierdo,1,2,100)}')\n",
    "print(f'Integra por trapecio {formula_compuesta(f2,trapecio,1,2,100)}')\n",
    "print(f'Integra por simpson {formula_compuesta(f2,simpson,1,2,100)}')\n"
   ]
  },
  {
   "cell_type": "markdown",
   "metadata": {},
   "source": [
    "Comentario: \n",
    "Como podemos observar dan un resultado similar, siend trapecio y simpson muy parecidas entre sí.  "
   ]
  },
  {
   "cell_type": "markdown",
   "metadata": {},
   "source": [
    "## Ejercicio 6\n",
    "6.- Sea $f_3(x)=x^{15} e^x$ en $[0,2]$. Vamos a dividir el intervalo en $10\\times 2^n$ subintervalos, es decir, $10,\\,20,\\,40,\\, 80,\\ldots $ y a aplicar la fórmula de Simpson compuesta hasta que la diferencia entre dos aproximaciones consecutivas (por ejemplo, podrían\n",
    "ser con $20$ y $40$ subintervalos) sea menor que $10^{-2}$, dando en tal caso por buena la última aproximación obtenida. Programe\n",
    "y calcule dicha aproximación. Compare ambas aproximaciones con\n",
    "el valor exacto."
   ]
  },
  {
   "cell_type": "code",
   "execution_count": 2,
   "metadata": {},
   "outputs": [
    {
     "name": "stdout",
     "output_type": "stream",
     "text": [
      "Aplicando la regla de barrow el valor es 27062.7024138996\n",
      "La a integral aproximada (en la iteración 6)  es 27062.702480891196\n",
      "El error es de 0.0000213214760707824\n"
     ]
    }
   ],
   "source": [
    "def f3(x):\n",
    "    return x**(15) * np.exp(x)\n",
    "\n",
    "## cálculo de valor exacto por regla de barrow\n",
    "x = sp.symbols(\"x\")\n",
    "f3s = x**15 * sp.exp(x) \n",
    "If3s = sp.integrate(f3s,x)\n",
    "exacto = If3s.subs(x,2)-If3s.subs(x,0)\n",
    "print(f'Aplicando la regla de barrow el valor es {exacto.evalf()}')\n",
    "diferencia = 9\n",
    "y = fs.formula_compuesta(f3,fs.simpson,0,2,10)\n",
    "n= 1\n",
    "while diferencia > 10**(-2):\n",
    "    ys = fs.formula_compuesta(f3,fs.simpson,0,2,10*2**(n))\n",
    "    n += 1\n",
    "    diferencia = abs(ys-y)\n",
    "    y = ys\n",
    "print (f'La a integral aproximada (en la iteración {n})  es {y}')\n",
    "print (f'El error es de {abs(exacto-y).evalf()}')"
   ]
  },
  {
   "cell_type": "markdown",
   "metadata": {},
   "source": [
    "## Ejercicio 7\n",
    "\n",
    "7.- Calcule las fórmulas gaussianas con $2$ y $3$ nodos,en el intervalo $[-1,1]$, siendo la función peso el valor absoluto de la variable. Aplíquelas para aproximar la función $x\\; e^x$ en $[-1,1]$ y compare los resultados con el valor exacto (organizando los cálculos de forma adecuada).\n"
   ]
  },
  {
   "cell_type": "code",
   "execution_count": 44,
   "metadata": {},
   "outputs": [],
   "source": [
    "#calcula nodos\n",
    "def nodos_gaussiana (a, b, n,w):\n",
    "    \"\"\" Devuelve los nodos de la fórmula de la gaussiana\n",
    "    a,b: intervalo [a,b] de definición\n",
    "    n: número de nodos \n",
    "    w: función peso\n",
    "    \"\"\"\n",
    "    x = sp.Symbol(\"x\")\n",
    "    c = list(sp.symbols('c0:'+ str(n)))\n",
    "    pi = np.prod([ (x - c[i]) for i in range(n)])\n",
    "    #print('Voy a computar la integral (esto puede tardar)...')\n",
    "    I = [sp.integrate(pi*w(x)*x**i,(x, a, b)) for i in range(n)]\n",
    "    #print(f'El valor de la integrales es {I}')\n",
    "    #print('la solución buscada es: ')\n",
    "    s = sp.solve(I,c)\n",
    "    return list(s[0])\n"
   ]
  },
  {
   "cell_type": "code",
   "execution_count": 76,
   "metadata": {},
   "outputs": [
    {
     "name": "stdout",
     "output_type": "stream",
     "text": [
      "fóruma para 2 nodos\n",
      "f(-sqrt(2)/2) + f(sqrt(2)/2)\n",
      "fóruma para 3 nodos\n",
      "f(0) + f(-sqrt(6)/3)/2 + f(sqrt(6)/3)/2\n",
      "\n",
      "El valor exacto es 0.735758882342885\n",
      "Para dos nodos el valor es 1.0854416412726071\n",
      "Para tres nodos el valor es 0.7432494342785245\n"
     ]
    }
   ],
   "source": [
    "a = -1\n",
    "b= 1\n",
    "n = 3\n",
    "def w(x):\n",
    "    return abs(x)#sp.sqrt(1/(1-x**2))\n",
    "z=sp.Symbol('z')\n",
    "for i in range(2,n+1):\n",
    "    q =pn.polinomioNewton(nodos_gaussiana(a,b,i,w))\n",
    "    print(f'fóruma para {i} nodos')\n",
    "    print(sp.integrate(q,(z,a,b)))\n",
    "\n",
    "f_exacta = x*sp.exp(x)\n",
    "print(f'\\nEl valor exacto es {sp.N(sp.integrate(f_exacta,(x,a,b)))}')\n",
    "\n",
    "## vemos ahora a por el valro aproximado\n",
    "def f_aprox(x):\n",
    "    return x*np.exp(x)\n",
    "\n",
    "def dosNodos(f):\n",
    "    return f(-np.sqrt(2)/2) + f(np.sqrt(2)/2)\n",
    "def tresNodos(f):\n",
    "    return f(0) + f(-np.sqrt(6)/3)/2 + f(np.sqrt(6)/3)/2\n",
    "\n",
    "print(f'Para la aproximación de dos nodos el valor es {dosNodos(f_aprox)}')\n",
    "print(f'Para la aproximación de tres nodos el valor es {tresNodos(f_aprox)}')"
   ]
  },
  {
   "cell_type": "markdown",
   "metadata": {
    "scrolled": true
   },
   "source": [
    "## Ejercicio 8\n",
    "\n",
    "8.- Programar las técnicas de integración de Romberg y adaptativa, para después aplicarlas a la aproximación de la siguiente integral $$\\int_a^b p(x)\\, dx$$\n",
    "siendo  $\\;a=\\displaystyle\\min_{0\\leq i\\leq 7}{d_i}$, $\\;b=\\displaystyle\\max_{0\\leq i\\leq 7}{d_i}$ y \n",
    "$$p(x)=d_0 + d_1 x + d_2 x^2 + d_3 x^3+ d_4 x^4 + d_5 x^5 + d_6 x^6 + d_7 x^7 $$\n",
    "(siendo $d_0, d_1, \\ldots, d_7$ los dígitos)."
   ]
  },
  {
   "cell_type": "code",
   "execution_count": 16,
   "metadata": {},
   "outputs": [
    {
     "name": "stdout",
     "output_type": "stream",
     "text": [
      "El resultado de la adaptativa es 5400.0\n",
      "El resultado de mi fórmula de romber es 19439.983687473403 tras 19 iteraciones\n"
     ]
    }
   ],
   "source": [
    "## El polinomio pedido es: \n",
    "coef = [2,5,3,7,8,2,9,1] \n",
    "a = min(coef)\n",
    "b = max(coef)\n",
    "\n",
    "def p(x):\n",
    "    return sum([coef[i]*x*i for i in range(len(coef))])\n",
    "\n",
    "# fórmula en fichero formulasIntegracion.py\n",
    "### ADAPTATIVA #######\n",
    "\n",
    "print(f'El resultado de la adaptativa es {fs.adaptativa(fs.simpson , p, a , b)}')\n",
    "\n",
    "### ROMBER \n",
    "def T2n(tn,f,h,a,n):\n",
    "    \"\"\"Fórmula recursiva trapecio\n",
    "    tn: valor de T_n\n",
    "    f: función a evaluar\n",
    "    h: diferencia partición h_{n+1}=h_{n}/2, por eso los nodos por calcular son x_i+h_{n+1}     = (a + m*h_n)+h_{n+1} = (a + m*2h_{n+1})+h_{n+1}\n",
    "    a: intervalo inferior partición\n",
    "    n: proviene de h{n+1}=(b-a)/2^{n+1}\n",
    "    \"\"\"\n",
    "    return 1/2*(tn)+h*sum(map((lambda e: f(a+(e*2+1)*h )),[*range(n)]))\n",
    "\n",
    "def Romberg(f,a,b,tol=(10**(-5)),length=20): \n",
    "    \"\"\" Integrar calculada por el método de Romberg, \n",
    "    devuelve el número ancho de columan exploradas \n",
    "    f: función sobre la que integrar\n",
    "    a: intervalo inferior sobre el que integrar\n",
    "    b: intervalo superior integración\n",
    "    length: Ancho de la tabla maximo\n",
    "    tol: diferencia que debe haber entre R(n-1,n-1) y R(n,n)\n",
    "    \"\"\"\n",
    "    #matriz que contentendrá datos integración Romberg\n",
    "    l = [ [None]*(i+1) for i in range(length)] # ojo que viene dada por l[fila][columan]\n",
    "\n",
    "    #Calulamos R(N,0), es decir la primera columa de la tabla\n",
    "    l[0][0]=fs.formula_compuesta(f,fs.trapecio, a, b,1)\n",
    "    h = (b-a)\n",
    "    n=1\n",
    "    for i in range(1,length):\n",
    "        h=h/2\n",
    "        n = n*2\n",
    "        l[i][0] = T2n(l[i-1][0],f,h,a,n)\n",
    "             \n",
    "        \n",
    "\n",
    "    ## camos a proceder ahora con los elementos de la forma R(j,k)\n",
    "    columna = 1\n",
    "    diferencia = 99999 \n",
    "    #for columna in range(1,length):\n",
    "    while( columna < length and diferencia > tol):\n",
    "        for fila in range(columna, length):\n",
    "            l[fila][columna] = (4**columna*l[fila][columna -1] - l[fila - 1][columna -1] ) / (4**columna -1) \n",
    "        \n",
    "        diferencia = abs(l[columna][columna]-l[columna-1][columna-1])\n",
    "        columna += 1\n",
    "    columna -= 1\n",
    "    return (l[columna][columna],columna)\n",
    "\n",
    "r = Romberg(p,a,b)\n",
    "print(f'El resultado de mi fórmula de romber es {r[0]} tras {r[1]} iteraciones')"
   ]
  },
  {
   "cell_type": "code",
   "execution_count": null,
   "metadata": {},
   "outputs": [],
   "source": []
  }
 ],
 "metadata": {
  "kernelspec": {
   "display_name": "Python 3.8.2 64-bit",
   "language": "python",
   "name": "python38264bit992ef6d2103d4908afe7c5d4de2c620d"
  },
  "language_info": {
   "codemirror_mode": {
    "name": "ipython",
    "version": 3
   },
   "file_extension": ".py",
   "mimetype": "text/x-python",
   "name": "python",
   "nbconvert_exporter": "python",
   "pygments_lexer": "ipython3",
   "version": "3.8.2"
  }
 },
 "nbformat": 4,
 "nbformat_minor": 2
}
